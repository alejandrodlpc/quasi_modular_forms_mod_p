{
 "cells": [
  {
   "cell_type": "markdown",
   "id": "1f4f1323",
   "metadata": {},
   "source": [
    "# Quasi-modular Forms mod $p$"
   ]
  },
  {
   "cell_type": "markdown",
   "id": "f8c2c0c2",
   "metadata": {},
   "source": [
    "Here we make $q$-series calculations of modular forms and their reductions modulo some prime $p$."
   ]
  },
  {
   "cell_type": "markdown",
   "id": "e85bb09e",
   "metadata": {},
   "source": [
    "## 0. Notations and sets"
   ]
  },
  {
   "cell_type": "markdown",
   "id": "dff74147",
   "metadata": {},
   "source": [
    "We fix the following notations and sets:\n",
    "1. $B[[q]] = \\mathbb{Q}[[q]]$ is the power series ring in the variable $q$.\n",
    "2. $S[P,Q,R] = \\mathbb{Q}[x,y,z]$ is the polynomial ring in the variables $x,y,z$."
   ]
  },
  {
   "cell_type": "code",
   "execution_count": 429,
   "id": "379df9c5",
   "metadata": {},
   "outputs": [],
   "source": [
    "B.<q> = PowerSeriesRing(QQ,default_prec=300)\n",
    "S.<P, Q, R> = PolynomialRing(QQ, 3)"
   ]
  },
  {
   "cell_type": "markdown",
   "id": "12142c61",
   "metadata": {},
   "source": [
    "## 1. $E_2$, $E_4$, $E_6$ and $\\Delta$"
   ]
  },
  {
   "cell_type": "markdown",
   "id": "9e532f9b",
   "metadata": {},
   "source": [
    "Below, we define the Eisenstein series $E_2$, $E_4$ and $E_6$. Then, using these we define $\\Delta$. Finally, we define $E_{p-1}$ for a prime $p\\geq5$ as a polynomial $A$ in $E_4$ and $E_6$."
   ]
  },
  {
   "cell_type": "code",
   "execution_count": 234,
   "id": "7a446a91",
   "metadata": {},
   "outputs": [
    {
     "name": "stdout",
     "output_type": "stream",
     "text": [
      "E_2 = 1 - 24*q - 72*q^2 - 96*q^3 - 168*q^4 + O(q^5)\n",
      "E_4 = 1 + 240*q + 2160*q^2 + 6720*q^3 + 17520*q^4 + O(q^5)\n",
      "E_6 = 1 - 504*q - 16632*q^2 - 122976*q^3 - 532728*q^4 + O(q^5)\n",
      "Delta = q - 24*q^2 + 252*q^3 - 1472*q^4 + O(q^5)\n"
     ]
    }
   ],
   "source": [
    "# Set precision\n",
    "prec = 1000\n",
    "\n",
    "# Define the graded ring of modular forms of level 1\n",
    "M = ModularFormsRing(1)\n",
    "\n",
    "# The graded ring is generated as an algebra by the Eisenstein series E4 and E6\n",
    "E2 = 1-24*sum(sigma(n,1)*q^n for n in range(1,prec+1))\n",
    "E4 = M.q_expansion_basis(4,prec+1)[0]\n",
    "E6 = M.q_expansion_basis(6,prec+1)[0]\n",
    "\n",
    "# Using E4 and E6, we define the Delta function\n",
    "Delta = (E4^3 - E6^2)/1728;\n",
    "\n",
    "# Print E4, E6 and Delta up to q^r where\n",
    "r = 5\n",
    "print('E_2 =',E2.add_bigoh(r))\n",
    "print('E_4 =',E4.add_bigoh(r))\n",
    "print('E_6 =',E6.add_bigoh(r))\n",
    "print('Delta =',Delta.add_bigoh(r))"
   ]
  },
  {
   "cell_type": "markdown",
   "id": "937ff8fb",
   "metadata": {},
   "source": [
    "We define a general Eisenstein series $E_k$.\n",
    "\n",
    "The function `Ek` has:\n",
    "- input: positive integers `k`, the weight of $E_k$, and `r`, the precision of the $q$-expansion\n",
    "- output: the $q$ expansion of $E_k$ up to $q^{r-1}$"
   ]
  },
  {
   "cell_type": "code",
   "execution_count": 235,
   "id": "28dfb9d9",
   "metadata": {},
   "outputs": [],
   "source": [
    "def Ek(k,r):\n",
    "    q_expansion = 1-(2*k/bernoulli(k))*sum(sigma(n,k-1)*q^n for n in range(1,r+2))\n",
    "    return q_expansion.add_bigoh(r)"
   ]
  },
  {
   "cell_type": "code",
   "execution_count": 236,
   "id": "1472f008",
   "metadata": {},
   "outputs": [
    {
     "data": {
      "text/plain": [
       "1 - 24*q - 196632*q^2 - 38263776*q^3 - 1610809368*q^4 - 29296875024*q^5 + O(q^6)"
      ]
     },
     "execution_count": 236,
     "metadata": {},
     "output_type": "execute_result"
    }
   ],
   "source": [
    "Ek(14,6)"
   ]
  },
  {
   "cell_type": "markdown",
   "id": "74f2beb1",
   "metadata": {},
   "source": [
    "Next, for a prime $p\\geq 5$, we determine the polynomial $A_p\\in\\mathbb{Q}[x,y]$ for which $A_p(E_4,E_6)=E_{p-1}$.\n",
    "\n",
    "The function `Ap` has:\n",
    "- input: a prime $p$\n",
    "- output: a polynomial in $\\mathbb{Q}[x,y]$"
   ]
  },
  {
   "cell_type": "markdown",
   "id": "6eeae52e",
   "metadata": {},
   "source": [
    "## 2. Basis of $M^{\\mathrm{qm}}_{\\leq k}(\\mathbb{Q})$"
   ]
  },
  {
   "cell_type": "markdown",
   "id": "98179b46",
   "metadata": {},
   "source": [
    "Given a weight $k$, we compute a monomial basis of $M^{\\mathrm{qm}}_{\\leq k}(\\mathbb{Q})$ which is a set of monomials of the form $E_2^a E_4^b E_6^c$ where $2a+4b+6c\\leq k$.\n",
    "\n",
    "The function `monomial_exponent` has:\n",
    "\n",
    "- input: a weight `k`\n",
    "- output: a list of triples `[a,b,c]` with $2a+4b+6c \\leq k$"
   ]
  },
  {
   "cell_type": "code",
   "execution_count": 237,
   "id": "adb030ac",
   "metadata": {},
   "outputs": [],
   "source": [
    "def monomial_exponents(k):\n",
    "    mon = []\n",
    "    for a in range(0,k):\n",
    "        if 2*a<=k:\n",
    "            for b in range(0,k):\n",
    "                if 4*b <= k - 2*a:\n",
    "                    for c in range(0,k):\n",
    "                        if 6*c <= k-2*a-4*b:\n",
    "                            mon.append([a,b,c])\n",
    "                        else: pass\n",
    "                else: pass\n",
    "        else: pass\n",
    "#    mon.pop(0)\n",
    "    return mon"
   ]
  },
  {
   "cell_type": "markdown",
   "id": "7c1c2be6",
   "metadata": {},
   "source": [
    "For example,"
   ]
  },
  {
   "cell_type": "code",
   "execution_count": 238,
   "id": "7914d090",
   "metadata": {},
   "outputs": [
    {
     "data": {
      "text/plain": [
       "[[0, 0, 0], [0, 0, 1], [0, 1, 0], [1, 0, 0], [1, 1, 0], [2, 0, 0], [3, 0, 0]]"
      ]
     },
     "execution_count": 238,
     "metadata": {},
     "output_type": "execute_result"
    }
   ],
   "source": [
    "k = 6\n",
    "monomial_exponents(k)"
   ]
  },
  {
   "cell_type": "markdown",
   "id": "4aad53cb",
   "metadata": {},
   "source": [
    "Given a triple $\\{a,b,c\\}$ of nonnegative integers, we compute $E_2^a E_4^b E_6^b$.\n",
    "\n",
    "The function `qmform_from_exp` has:\n",
    "- input: a triple `exponents` of the form `[a,b,c]` where $a,b,c\\geq 0$\n",
    "- output: the $q$-series $E_2^a E_4^b E_6^c$"
   ]
  },
  {
   "cell_type": "code",
   "execution_count": 239,
   "id": "5f759b6f",
   "metadata": {},
   "outputs": [],
   "source": [
    "def qmform_from_exp(exponents):\n",
    "    return E2^(exponents[0]) * E4^(exponents[1]) * E6^(exponents[2])"
   ]
  },
  {
   "cell_type": "markdown",
   "id": "2f9f6723",
   "metadata": {},
   "source": [
    "For example:"
   ]
  },
  {
   "cell_type": "code",
   "execution_count": 240,
   "id": "5d509962",
   "metadata": {},
   "outputs": [
    {
     "name": "stdout",
     "output_type": "stream",
     "text": [
      "E_2 ^ 2 * E_4 ^ 3 * E_6 ^ 1 has q-series:\n",
      "1 + 168*q - 210168*q^2 - 75792864*q^3 - 7200742584*q^4 + 1060876656*q^5 + O(q^6)\n"
     ]
    }
   ],
   "source": [
    "e = [2,3,1]\n",
    "print('E_2 ^',e[0],'* E_4 ^',e[1],'* E_6 ^',e[2],'has q-series:')\n",
    "print(qmform_from_exp(e).add_bigoh(6))"
   ]
  },
  {
   "cell_type": "markdown",
   "id": "149df1e8",
   "metadata": {},
   "source": [
    "We can write the monomial generating set of $M^{\\mathrm{qm}}_{\\leq k}(\\mathbb{Q})$ as a matrix whose columns are the coefficients of the $q$-expansion of each element of the basis.\n",
    "\n",
    "The `basis_matrix` has:\n",
    "\n",
    "- input: a weight `k`\n",
    "- output: a matrix $(a_{ij})$, where $a_{ij}$ is the $i$th $q$-expansion coefficient of the $j$th basis element."
   ]
  },
  {
   "cell_type": "code",
   "execution_count": 241,
   "id": "f6e66715",
   "metadata": {},
   "outputs": [],
   "source": [
    "def basis_matrix(k):\n",
    "    mons = monomial_exponents(k)\n",
    "    basis_length = len(mons)\n",
    "    basis_elements = [qmform_from_exp(u).add_bigoh(basis_length) for u in mons]\n",
    "    return Matrix([[m.padded_list()[i] for i in range(0,basis_length)] for m in basis_elements]).transpose()"
   ]
  },
  {
   "cell_type": "markdown",
   "id": "b1f1bc27",
   "metadata": {},
   "source": [
    "For example"
   ]
  },
  {
   "cell_type": "code",
   "execution_count": 242,
   "id": "202a7b3d",
   "metadata": {},
   "outputs": [
    {
     "name": "stdout",
     "output_type": "stream",
     "text": [
      "[       1        1        1        1        1        1        1]\n",
      "[       0     -504      240      -24      216      -48      -72]\n",
      "[       0   -16632     2160      -72    -3672      432     1512]\n",
      "[       0  -122976     6720      -96   -62496     3264    -3744]\n",
      "[       0  -532728    17520     -168  -322488     9456   -95544]\n",
      "[       0 -1575504    30240     -144 -1121904    21600  -473904]\n",
      "[       0 -4058208    60480     -288 -2969568    39744 -1538784]\n"
     ]
    }
   ],
   "source": [
    "# Fix a weight\n",
    "k = 6\n",
    "\n",
    "print(basis_matrix(k))"
   ]
  },
  {
   "cell_type": "markdown",
   "id": "c38c48dd",
   "metadata": {},
   "source": [
    "Here we check that the `basis_matrix(k)` is invertible for even $k$ up to 20."
   ]
  },
  {
   "cell_type": "code",
   "execution_count": 243,
   "id": "0fc5e9dc",
   "metadata": {},
   "outputs": [
    {
     "name": "stdout",
     "output_type": "stream",
     "text": [
      "the monomial generating set of weights <= 2 is a basis: True\n",
      "the monomial generating set of weights <= 4 is a basis: True\n",
      "the monomial generating set of weights <= 6 is a basis: True\n",
      "the monomial generating set of weights <= 8 is a basis: True\n",
      "the monomial generating set of weights <= 10 is a basis: True\n",
      "the monomial generating set of weights <= 12 is a basis: True\n",
      "the monomial generating set of weights <= 14 is a basis: True\n",
      "the monomial generating set of weights <= 16 is a basis: True\n",
      "the monomial generating set of weights <= 18 is a basis: True\n",
      "the monomial generating set of weights <= 20 is a basis: True\n",
      "----------------------------------------------------------------------\n",
      "Elapsed time: 0.828148 seconds\n"
     ]
    }
   ],
   "source": [
    "import time\n",
    "r = 10 # number of even weights\n",
    "# For r = 5, runtime ~ 0.05 sec\n",
    "# For r = 10, runtime ~ 0.9 sec\n",
    "# For r = 15, runtime ~ 10 sec\n",
    "# For r = 20, runtime ~ 137 sec\n",
    "\n",
    "\n",
    "# Record the start time\n",
    "start_time = time.time()\n",
    "\n",
    "for k in [2*i for i in range(1, r+1)]:\n",
    "    det_for_k = basis_matrix(k).det()\n",
    "    print('the monomial generating set of weights <=',k,'is a basis:',det_for_k!=0)\n",
    "\n",
    "# Record the end time\n",
    "end_time = time.time()\n",
    "\n",
    "# Calculate and print the elapsed time\n",
    "elapsed_time = end_time - start_time\n",
    "print('----------------------------------------------------------------------')\n",
    "print(f\"Elapsed time: {elapsed_time:.6f} seconds\")"
   ]
  },
  {
   "cell_type": "markdown",
   "id": "f0b15927",
   "metadata": {},
   "source": [
    "Checking the determinants modulo a large prime is much quicker though not completely reliable. Below, we check the determinant of `basis_matrix(k)` modulo $p$ where $p$ is the $(k/2)$th prime (this choice of prime was made empirically by computing the factorizations of the determinants and observing that, roughly, new prime factor appeared in the factorization everytime the weight increased by two)."
   ]
  },
  {
   "cell_type": "code",
   "execution_count": 244,
   "id": "bd27893d",
   "metadata": {},
   "outputs": [
    {
     "name": "stdout",
     "output_type": "stream",
     "text": [
      "for weight 2 , the monomial generating set is a basis mod p = 7 --> True\n",
      "for weight 4 , the monomial generating set is a basis mod p = 19 --> True\n",
      "for weight 6 , the monomial generating set is a basis mod p = 37 --> True\n",
      "for weight 8 , the monomial generating set is a basis mod p = 53 --> True\n",
      "for weight 10 , the monomial generating set is a basis mod p = 71 --> True\n",
      "----------------------------------------------------------------------\n",
      "Elapsed time: 0.052872 seconds\n"
     ]
    }
   ],
   "source": [
    "# The prime considered is the kth prime, where k is the weight\n",
    "\n",
    "r = 5\n",
    "# For r = 5, runtime ~ 0.06 sec\n",
    "# For r = 10, runtime ~ 0.9 sec\n",
    "# For r = 15, runtime ~ 7.5 sec\n",
    "# For r = 20, runtime ~ 45 sec\n",
    "# For r = 25, runtime ~ 201 sec\n",
    "\n",
    "# Record the start time\n",
    "start_time = time.time()\n",
    "\n",
    "for k in [2*i for i in range(1, r+1)]:\n",
    "    p = nth_prime(2*k)\n",
    "    A = basis_matrix(k).change_ring(GF(p))\n",
    "    det_modp = det(A)\n",
    "    print('for weight',k,', the monomial generating set is a basis mod p =',p,'-->',det_modp !=0)\n",
    "\n",
    "# Record the end time\n",
    "end_time = time.time()\n",
    "\n",
    "# Calculate and print the elapsed time\n",
    "elapsed_time = end_time - start_time\n",
    "print('----------------------------------------------------------------------')\n",
    "print(f\"Elapsed time: {elapsed_time:.6f} seconds\")"
   ]
  },
  {
   "cell_type": "markdown",
   "id": "ffe6ac63",
   "metadata": {},
   "source": [
    "We can write the generating set of $M^{\\mathrm{qm}}_{\\leq k}(\\mathbb{Q})$ as a matrix whose columns are the coefficients of the $q$-expansion of each element of the monomial generating set.\n",
    "\n",
    "The `basis_matrix` has:\n",
    "\n",
    "- input: a weight `k` and a positive integer `rows`\n",
    "- output: a `rows`$\\times N$ matrix $(a_{ij})$, where $N$ is the number of monomial generators and $a_{ij}$ is the $i$th $q$-expansion coefficient of the $j$th monomial."
   ]
  },
  {
   "cell_type": "code",
   "execution_count": 245,
   "id": "786eef8c",
   "metadata": {},
   "outputs": [],
   "source": [
    "def generating_matrix(k,rows):\n",
    "    mons = monomial_exponents(k)\n",
    "    basis_length = len(mons)\n",
    "    basis_elements = [qmform_from_exp(u).add_bigoh(rows) for u in mons]\n",
    "    return Matrix([[m.padded_list()[i] for i in range(0,rows)] for m in basis_elements]).transpose()"
   ]
  },
  {
   "cell_type": "code",
   "execution_count": 246,
   "id": "ca83b346",
   "metadata": {},
   "outputs": [
    {
     "name": "stdout",
     "output_type": "stream",
     "text": [
      "[        1         1         1         1         1         1         1]\n",
      "[        0      -504       240       -24       216       -48       -72]\n",
      "[        0    -16632      2160       -72     -3672       432      1512]\n",
      "[        0   -122976      6720       -96    -62496      3264     -3744]\n",
      "[        0   -532728     17520      -168   -322488      9456    -95544]\n",
      "[        0  -1575504     30240      -144  -1121904     21600   -473904]\n",
      "[        0  -4058208     60480      -288  -2969568     39744  -1538784]\n",
      "[        0  -8471232     82560      -192  -6737472     66432  -3947328]\n",
      "[        0 -17047800    140400      -360 -13678200    105840  -8597880]\n",
      "[        0 -29883672    181680      -312 -24978312    147984 -16987176]\n"
     ]
    }
   ],
   "source": [
    "k = 6\n",
    "rows = 10\n",
    "\n",
    "print(generating_matrix(k,rows))"
   ]
  },
  {
   "cell_type": "markdown",
   "id": "1cac9aba",
   "metadata": {},
   "source": [
    "Given an even weight $2k$, we have $$\\#\\{(a,b,c):2a+4b+6c\\leq2k\\}=\\left\\lceil \\frac{2k^3+21k^2+66k+30}{72} \\right\\rceil$$ The function `number_of_monomials` gives this formula."
   ]
  },
  {
   "cell_type": "code",
   "execution_count": 247,
   "id": "66c4521f",
   "metadata": {},
   "outputs": [],
   "source": [
    "def number_of_monomials(w):\n",
    "    if w%2 ==0:\n",
    "        k = w/2\n",
    "    else:\n",
    "        k = (w-1)/2\n",
    "    return ceil((2*k^3+21*k^2+66*k+30)/72)"
   ]
  },
  {
   "cell_type": "code",
   "execution_count": 248,
   "id": "8128096f",
   "metadata": {},
   "outputs": [
    {
     "name": "stdout",
     "output_type": "stream",
     "text": [
      "For weight = 96 ,\n",
      "using monomial_exponents gives us 3789 many monomials,\n",
      "using the above formula gives us 3789 many monomials.\n"
     ]
    }
   ],
   "source": [
    "k = 96\n",
    "print('For weight =',k,',')\n",
    "print('using monomial_exponents gives us',len(monomial_exponents(k)),'many monomials,')\n",
    "print('using the above formula gives us',number_of_monomials(k),'many monomials.')"
   ]
  },
  {
   "cell_type": "markdown",
   "id": "21a53f13",
   "metadata": {},
   "source": [
    "Notice that the function `number_of_monomials` is much faster than computing `len(monomial_exponents(k))`"
   ]
  },
  {
   "cell_type": "code",
   "execution_count": 249,
   "id": "41632457",
   "metadata": {},
   "outputs": [
    {
     "name": "stdout",
     "output_type": "stream",
     "text": [
      "weight = 400\n",
      "Execution time using number_of_monomials: 2.248800592496991e-05 seconds\n",
      "Execution time using len(monomial_exponents): 3.162827619991731 seconds\n"
     ]
    }
   ],
   "source": [
    "w = 400\n",
    "\n",
    "repetitions = 1\n",
    "\n",
    "import timeit\n",
    "from math import ceil\n",
    "\n",
    "# Define a lambda function to include the calculation\n",
    "calculation_1 = lambda: number_of_monomials(w)\n",
    "calculation_2 = lambda: len(monomial_exponents(w))\n",
    "\n",
    "execution_time_1 = timeit.timeit(calculation_1, number=repetitions)\n",
    "execution_time_2 = timeit.timeit(calculation_2, number=repetitions)\n",
    "\n",
    "print('weight =',w)\n",
    "print(\"Execution time using number_of_monomials:\", execution_time_1, \"seconds\")\n",
    "print(\"Execution time using len(monomial_exponents):\", execution_time_2, \"seconds\")"
   ]
  },
  {
   "cell_type": "markdown",
   "id": "d757f0b6",
   "metadata": {},
   "source": [
    "## 3. Generating quasi-modular forms from $\\{E_2^a E_4^b E_6^c:a,b,c\\geq0\\}$"
   ]
  },
  {
   "cell_type": "markdown",
   "id": "79f4eee2",
   "metadata": {},
   "source": [
    "Given a quasi-modular form $f\\in M^{\\mathrm{qm}(\\mathbb{Q})}$ as a $q$-series, we express it as a $\\mathbb{Q}$-linear combination of the monomial generating set computed in $\\S 2$.\n",
    "\n",
    "The function `linear_combination_with_prec` has:\n",
    "\n",
    "- input: a positive even weight `k`, a positive integer `pr` and a $q$-series `f` that is a sum of quasi-modular forms of weight bounded by $k$,\n",
    "\n",
    "- output: a list of numbers $\\{a_1,\\ldots,a_n\\}$ such that $f=a_1 v_1+\\cdots+a_n v_n$ where $\\{v_1,\\ldots,v_n\\}$ is the ordered generating set computed with `monomial_basis`."
   ]
  },
  {
   "cell_type": "code",
   "execution_count": 250,
   "id": "efe86462",
   "metadata": {},
   "outputs": [],
   "source": [
    "def linear_combination_with_prec(k,pr,f):\n",
    "    mons = monomial_exponents(k)\n",
    "    basis_length = len(mons)\n",
    "    if f.common_prec(f) < pr:\n",
    "        F = f.lift_to_precision(pr)\n",
    "    else:\n",
    "        F = f.add_bigoh(pr)\n",
    "    list_of_coefficients = F.padded_list(pr)\n",
    "    v = vector([c for c in list_of_coefficients[:pr]])\n",
    "    A = generating_matrix(k,pr)\n",
    "    try:\n",
    "        sol = A.solve_right(v)\n",
    "    except ValueError:\n",
    "        return \"Error\"\n",
    "    return sol "
   ]
  },
  {
   "cell_type": "code",
   "execution_count": 251,
   "id": "5a70488d",
   "metadata": {},
   "outputs": [
    {
     "name": "stdout",
     "output_type": "stream",
     "text": [
      "23\n",
      "(0, 0, 250/691, 0, 0, 0, 441/691, 0, 0, 0, 0, 0, 0, 0, 0, 0, 0, 0, 0, 0, 0, 0, 0)\n"
     ]
    }
   ],
   "source": [
    "k=12\n",
    "mons = monomial_exponents(k)\n",
    "print(len(mons))\n",
    "\n",
    "pr = 29\n",
    "\n",
    "f = Ek(k,pr);\n",
    "w = linear_combination_with_prec(12,pr,f)\n",
    "\n",
    "print(w)\n",
    "\n",
    "#pol = sum(w[mons.index(e)]*P^e[0]*Q^e[1]*R^e[2] for e in mons)\n",
    "\n",
    "#print(pol)\n",
    "\n",
    "#print(f-pol(E2,E4,E6))"
   ]
  },
  {
   "cell_type": "markdown",
   "id": "cf7dc889",
   "metadata": {},
   "source": [
    "Given a quasi-modular form $f\\in M^{\\mathrm{qm}(\\mathbb{Q})}$ as a $q$-series, we express it as a $\\mathbb{Q}$-linear combination of the monomial basis computed in $\\S 2$.\n",
    "\n",
    "The function `linear_comb` has:\n",
    "\n",
    "- input: a positive even weight `k` and a $q$-series `f` that is a sum of quasi-modular forms of weight bounded by $k$,\n",
    "\n",
    "- output: a list of numbers $\\{a_1,\\ldots,a_n\\}$ such that $f=a_1 v_1+\\cdots+a_n v_n$ where $\\{v_1,\\ldots,v_n\\}$ is the ordered basis computed with `monomial_basis`."
   ]
  },
  {
   "cell_type": "code",
   "execution_count": 252,
   "id": "f39453bb",
   "metadata": {},
   "outputs": [],
   "source": [
    "def linear_comb(k,f):\n",
    "    basis_length = number_of_monomials(k)\n",
    "    F = f.add_bigoh(basis_length)\n",
    "    list_of_coefficients = F.padded_list(basis_length)\n",
    "    v = vector([c for c in list_of_coefficients[:basis_length]])\n",
    "    A = basis_matrix(k)\n",
    "    return list(A^(-1)*v)"
   ]
  },
  {
   "cell_type": "markdown",
   "id": "64fb74ed",
   "metadata": {},
   "source": [
    "Given a linear combination of monomials from `linear_comb`, we can check whether the coefficients are $p$-integral.\n",
    "\n",
    "The function `p_integral_linear_comb` has:\n",
    "- input: a positive even weight `k`, $q$-series `f` that is a sum of quasi-modular forms of weight bounded by $k$, and a prime `p`\n",
    "\n",
    "- output: a list of numbers $\\{d_1,\\ldots,d_n\\}$ where $d_1,\\ldots,d_n$ are the reduction modulo $p$ of the denominators of the coefficients of the linear combination given by `linear_comb(k,f)`. "
   ]
  },
  {
   "cell_type": "code",
   "execution_count": 253,
   "id": "fa0aa4a4",
   "metadata": {},
   "outputs": [],
   "source": [
    "def p_integral_linear_comb(k,f,p):\n",
    "    return [denominator(u)%p for u in linear_comb(k,f)]"
   ]
  },
  {
   "cell_type": "markdown",
   "id": "a9445cb9",
   "metadata": {},
   "source": [
    "Given a positive even weight $k$, we use `linear_comb` to produce the polynomial in $E_2,E_4$ and $E_6$ that equals $f$.\n",
    "\n",
    "The function `associated_poly` has:\n",
    "- input: a positive even weight `k` and a $q$-series `f` that is a sum of quasi-modular forms of weight bounded by $k$,\n",
    "- output: a polynomial in $P$, $Q$ and $R$ that equals `f` when evaluated at $P=E_2$, $Q=E_4$ and $R=E_6$."
   ]
  },
  {
   "cell_type": "code",
   "execution_count": 254,
   "id": "81f24404",
   "metadata": {},
   "outputs": [],
   "source": [
    "def associated_poly(k,f):\n",
    "    mons = monomial_exponents(k)\n",
    "    v = linear_comb(k,f)\n",
    "    return sum(v[mons.index(e)]*P^e[0]*Q^e[1]*R^e[2] for e in mons)"
   ]
  },
  {
   "cell_type": "code",
   "execution_count": 255,
   "id": "cc433d22",
   "metadata": {},
   "outputs": [],
   "source": [
    "def associated_poly_with_prec(k,pr,f):\n",
    "    mons = monomial_exponents(k)\n",
    "    try:\n",
    "        v = linear_combination_with_prec(k,pr,f)\n",
    "    except ValueError:\n",
    "        return \"Error\"\n",
    "    else:\n",
    "        return sum(v[mons.index(e)]*P^e[0]*Q^e[1]*R^e[2] for e in mons)"
   ]
  },
  {
   "cell_type": "markdown",
   "id": "2fc6cb47",
   "metadata": {},
   "source": [
    "For example:"
   ]
  },
  {
   "cell_type": "code",
   "execution_count": 256,
   "id": "46c5b734",
   "metadata": {},
   "outputs": [
    {
     "name": "stdout",
     "output_type": "stream",
     "text": [
      "Let:\n",
      "f =  1 - 28728/43867*q - 3765465144/43867*q^2 - 3709938631392/43867*q^3 - 493547047383096/43867*q^4 - 21917724609403728/43867*q^5 - 486272786232443616/43867*q^6 - 6683009405824511424/43867*q^7 - 64690198594597187640/43867*q^8 - 479102079577959825624/43867*q^9 + O(q^10)\n",
      "---------------------------\n",
      "f is equal to the polynomial:\n",
      "38367/43867*Q^3*R + 5500/43867*R^3\n",
      "---------------------------\n",
      "The difference f-polynomial is:\n",
      "O(q^1000)\n"
     ]
    }
   ],
   "source": [
    "p = 19 # fixed prime number\n",
    "k = p-1 # weight of the form\n",
    "r = 100 # max order when printing q-expansions\n",
    "\n",
    "f = Ek(k,prec);\n",
    "pol = associated_poly(k,f)\n",
    "\n",
    "print('Let:')\n",
    "print('f = ',f.add_bigoh(10))\n",
    "print('---------------------------')\n",
    "print('f is equal to the polynomial:')\n",
    "print(pol)\n",
    "print('---------------------------')\n",
    "print('The difference f-polynomial is:')\n",
    "print(f-pol(E2,E4,E6))"
   ]
  },
  {
   "cell_type": "markdown",
   "id": "0363360e",
   "metadata": {},
   "source": [
    "We combine the above functions into the single function `fancy_linear_comb` that has:\n",
    "- inputs: `k` a highest weight, `f` a $q$-series, `p` a prime, `r` a precision for $q$-series\n",
    "- ouput: a verbose analysis of `f`"
   ]
  },
  {
   "cell_type": "code",
   "execution_count": 257,
   "id": "452d8206",
   "metadata": {},
   "outputs": [],
   "source": [
    "def fancy_linear_comb(k,f,p,r):\n",
    "    mons = monomial_exponents(k)\n",
    "    basis_length = len(mons)\n",
    "    #basis_elements = [qmform_from_exp(u).add_bigoh(basis_length) for u in mons]\n",
    "    v = linear_comb(k,f)\n",
    "    associated_poly = sum(v[mons.index(e)]*P^e[0]*Q^e[1]*R^e[2] for e in mons)\n",
    "    denominators_mod_p = p_integral_linear_comb(k,f,p)\n",
    "    \n",
    "    if 0 in denominators_mod_p:\n",
    "        p_integral_check = False\n",
    "    else:\n",
    "        p_integral_check = True\n",
    "\n",
    "    print('Consider the form:')\n",
    "    print('f =',f.add_bigoh(r))\n",
    "    print('-----------------------------------------------')\n",
    "    print('The monomial basis for weights <=',k,\"is:\")\n",
    "    print([P^e[0]*Q^e[1]*R^e[2] for e in mons])\n",
    "    print('-----------------------------------------------')\n",
    "    print('f is equal to the following linear combination of the above monomial basis:')\n",
    "    print(associated_poly)\n",
    "    print('-----------------------------------------------')\n",
    "    print('The coefficients of the linear combination are:')\n",
    "    print(v)\n",
    "    print('-----------------------------------------------')\n",
    "    print('The denominators modulo',p,'of the denominators of these coefficients are:')\n",
    "    print(denominators_mod_p)\n",
    "    print('-----------------------------------------------')\n",
    "    print('The linear combination is',p,'- integral:',p_integral_check)"
   ]
  },
  {
   "cell_type": "markdown",
   "id": "2bdad753",
   "metadata": {},
   "source": [
    "For example: we compute the Eisenstein series $E_{p-1}$ as a linear combination of monomials of the form $E_2^a E_4^b E_6^c$."
   ]
  },
  {
   "cell_type": "code",
   "execution_count": 258,
   "id": "9d770d32",
   "metadata": {},
   "outputs": [
    {
     "name": "stdout",
     "output_type": "stream",
     "text": [
      "Consider the form:\n",
      "f = 1 + 65520/691*q + 134250480/691*q^2 + 11606736960/691*q^3 + 274945048560/691*q^4 + O(q^5)\n",
      "-----------------------------------------------\n",
      "The monomial basis for weights <= 12 is:\n",
      "[1, R, R^2, Q, Q*R, Q^2, Q^3, P, P*R, P*Q, P*Q*R, P*Q^2, P^2, P^2*R, P^2*Q, P^2*Q^2, P^3, P^3*R, P^3*Q, P^4, P^4*Q, P^5, P^6]\n",
      "-----------------------------------------------\n",
      "f is equal to the following linear combination of the above monomial basis:\n",
      "441/691*Q^3 + 250/691*R^2\n",
      "-----------------------------------------------\n",
      "The coefficients of the linear combination are:\n",
      "[0, 0, 250/691, 0, 0, 0, 441/691, 0, 0, 0, 0, 0, 0, 0, 0, 0, 0, 0, 0, 0, 0, 0, 0]\n",
      "-----------------------------------------------\n",
      "The denominators modulo 13 of the denominators of these coefficients are:\n",
      "[1, 1, 2, 1, 1, 1, 2, 1, 1, 1, 1, 1, 1, 1, 1, 1, 1, 1, 1, 1, 1, 1, 1]\n",
      "-----------------------------------------------\n",
      "The linear combination is 13 - integral: True\n"
     ]
    }
   ],
   "source": [
    "p = 13 # fixed prime number\n",
    "k = p-1 # weight of the form\n",
    "r = 5 # max order when printing q-expansions\n",
    "\n",
    "basis_length = len(monomial_exponents(k))\n",
    "\n",
    "f = Ek(k,basis_length); #Define the form\n",
    "\n",
    "fancy_linear_comb(k,f,p,r)"
   ]
  },
  {
   "cell_type": "markdown",
   "id": "721c4a7e",
   "metadata": {},
   "source": [
    "## $\\S$4. Finding Graded Components"
   ]
  },
  {
   "cell_type": "markdown",
   "id": "663569e3",
   "metadata": {},
   "source": [
    "Given a prime $p$ and a set $X$ of triples $(a,b,c)$, we partition this set into\n",
    "\n",
    "$$X = \\bigsqcup_{i=0}^{p-2} X_i\\quad\\text{with}\\quad X_i :=\\{(a,b,c)\\in X \\mid 2a+4b+6c\\equiv i \\pmod{p-1}\\}$$\n",
    "\n",
    "The function `graded_exponents_mod_p` takes\n",
    "- input: A set `X` of triples and a prime number `p`\n",
    "- output: A set $X_0,X_1,\\ldots,X_{p-2}$ of subsets of `X` where $(a,b,c)\\in X_i \\Longleftrightarrow 2a+4b+6c\\equiv i\\pmod{p-1}$"
   ]
  },
  {
   "cell_type": "code",
   "execution_count": 259,
   "id": "d72ec27d",
   "metadata": {},
   "outputs": [],
   "source": [
    "def graded_exponents_mod_p(X,p):\n",
    "    parts = []\n",
    "    for u in [l for l in range(0,p-2) if l%2 == 0]:\n",
    "        parts_u = [w for w in X if (2*w[0]+4*w[1]+6*w[2]-u)%(p-1) == 0]\n",
    "        parts.append(parts_u)\n",
    "    return parts"
   ]
  },
  {
   "cell_type": "code",
   "execution_count": 260,
   "id": "d26e6522",
   "metadata": {},
   "outputs": [
    {
     "name": "stdout",
     "output_type": "stream",
     "text": [
      "-----------------------------------------------------------------------\n",
      "The set of monomials of weight <= 12 is\n",
      "[1, R, R^2, Q, Q*R, Q^2, Q^3, P, P*R, P*Q, P*Q*R, P*Q^2, P^2, P^2*R, P^2*Q, P^2*Q^2, P^3, P^3*R, P^3*Q, P^4, P^4*Q, P^5, P^6]\n",
      "-----------------------------------------------------------------------\n",
      "The set of monomials partitioned according to their weights modulo p-1:\n",
      "k = 0 --> [1, R^2, Q^3, P*Q*R, P^2*Q^2, P^3*R, P^4*Q, P^6]\n",
      "k = 2 --> [P]\n",
      "k = 4 --> [Q, P^2]\n",
      "k = 6 --> [R, P*Q, P^3]\n",
      "k = 8 --> [Q^2, P*R, P^2*Q, P^4]\n",
      "k = 10 --> [Q*R, P*Q^2, P^2*R, P^3*Q, P^5]\n",
      "-----------------------------------------------------------------------\n"
     ]
    }
   ],
   "source": [
    "p = 13\n",
    "k = 12 # bound for weight\n",
    "\n",
    "mons = monomial_exponents(k)\n",
    "\n",
    "print('-----------------------------------------------------------------------')\n",
    "print('The set of monomials of weight <=',k,'is')\n",
    "print([P^e[0]*Q^e[1]*R^e[2] for e in mons])\n",
    "\n",
    "print('-----------------------------------------------------------------------')\n",
    "    \n",
    "g_exp = graded_exponents_mod_p(mons,p)\n",
    "print('The set of monomials partitioned according to their weights modulo p-1:')\n",
    "\n",
    "for ge in g_exp:\n",
    "    print('k =',2*g_exp.index(ge),'-->',[P^t[0]*Q^t[1]*R^t[2] for t in ge])\n",
    "print('-----------------------------------------------------------------------')"
   ]
  },
  {
   "cell_type": "code",
   "execution_count": 319,
   "id": "0e38955a",
   "metadata": {},
   "outputs": [
    {
     "name": "stdout",
     "output_type": "stream",
     "text": [
      "-----------------------------------------------------------------------\n",
      "The set of monomials of weight <= 12 is\n",
      "[1, R, R^2, Q, Q*R, Q^2, Q^3, P, P*R, P*Q, P*Q*R, P*Q^2, P^2, P^2*R, P^2*Q, P^2*Q^2, P^3, P^3*R, P^3*Q, P^4, P^4*Q, P^5, P^6]\n",
      "-----------------------------------------------------------------------\n",
      "[[[0, 0, 0], [0, 0, 2], [0, 3, 0], [1, 1, 1], [2, 2, 0], [3, 0, 1], [4, 1, 0], [6, 0, 0]], [[1, 0, 0]], [[0, 1, 0], [2, 0, 0]], [[0, 0, 1], [1, 1, 0], [3, 0, 0]], [[0, 2, 0], [1, 0, 1], [2, 1, 0], [4, 0, 0]], [[0, 1, 1], [1, 2, 0], [2, 0, 1], [3, 1, 0], [5, 0, 0]]]\n",
      "The set of monomials partitioned according to their weights modulo p-1:\n",
      "k = 0 --> [1, R^2, Q^3, P*Q*R, P^2*Q^2, P^3*R, P^4*Q, P^6]\n",
      "k = 2 --> [P]\n",
      "k = 4 --> [Q, P^2]\n",
      "k = 6 --> [R, P*Q, P^3]\n",
      "k = 8 --> [Q^2, P*R, P^2*Q, P^4]\n",
      "k = 10 --> [Q*R, P*Q^2, P^2*R, P^3*Q, P^5]\n",
      "-----------------------------------------------------------------------\n"
     ]
    }
   ],
   "source": [
    "p = 13\n",
    "k = 12 # bound for weight\n",
    "\n",
    "mons = monomial_exponents(k)\n",
    "\n",
    "print('-----------------------------------------------------------------------')\n",
    "print('The set of monomials of weight <=',k,'is')\n",
    "print([P^e[0]*Q^e[1]*R^e[2] for e in mons])\n",
    "\n",
    "print('-----------------------------------------------------------------------')\n",
    "    \n",
    "g_exp = graded_exponents_mod_p(mons,p)\n",
    "\n",
    "print('The set of monomials partitioned according to their weights modulo p-1:')\n",
    "\n",
    "for ge in g_exp:\n",
    "    print('k =',2*g_exp.index(ge),'-->',[P^t[0]*Q^t[1]*R^t[2] for t in ge])\n",
    "print('-----------------------------------------------------------------------')"
   ]
  },
  {
   "cell_type": "markdown",
   "id": "e71a169e",
   "metadata": {},
   "source": [
    "## $\\S$5. The Quasi-modular Forms $U_a$"
   ]
  },
  {
   "cell_type": "markdown",
   "id": "71df57fd",
   "metadata": {},
   "source": [
    "In this section we define the $q$-series $U^{(\\beta)}_a$ where $a>1$ and $\\beta$ is an ordered list of $(a-1)$ many 0's and 1's. "
   ]
  },
  {
   "cell_type": "markdown",
   "id": "23c98aec",
   "metadata": {},
   "source": [
    "First, we convert an ordered list of 0's and 1's into a string of inequalities.\n",
    "\n",
    "The function `vector_to_ineqs` has:\n",
    "- input: a list `vec` of 0's and 1's.\n",
    "- output: a list of strings with \"$\\geq$\" in the place of the 0's and \"$>$\" in the place of the 1's.\n",
    "\n",
    "For example, the vector `[0,0,1,1,0]` is mapped to `['>=','>=','>','>','>=']`"
   ]
  },
  {
   "cell_type": "code",
   "execution_count": 261,
   "id": "3f293ab1",
   "metadata": {},
   "outputs": [],
   "source": [
    "inequality_signs = ['>=','>']\n",
    "\n",
    "def vector_to_ineqs(vec):\n",
    "    list_of_ineqs = []\n",
    "    for v in vec:\n",
    "        if v==0:\n",
    "            list_of_ineqs.append('>=')\n",
    "        elif v==1:\n",
    "            list_of_ineqs.append('>')\n",
    "        else:\n",
    "            pass\n",
    "    return list_of_ineqs"
   ]
  },
  {
   "cell_type": "markdown",
   "id": "ac91d2e4",
   "metadata": {},
   "source": [
    "For example,"
   ]
  },
  {
   "cell_type": "code",
   "execution_count": 262,
   "id": "dd76ffc4",
   "metadata": {
    "scrolled": true
   },
   "outputs": [
    {
     "name": "stdout",
     "output_type": "stream",
     "text": [
      "beta = [0, 0, 0, 1, 1, 0, 1, 0, 1, 1]\n",
      "associated list of inequalities = ['>=', '>=', '>=', '>', '>', '>=', '>', '>=', '>', '>']\n"
     ]
    }
   ],
   "source": [
    "vec = [0,0,0,1,1,0,1,0,1,1]\n",
    "print('beta =',vec)\n",
    "print('associated list of inequalities =',vector_to_ineqs(vec))"
   ]
  },
  {
   "cell_type": "markdown",
   "id": "500cac52",
   "metadata": {},
   "source": [
    "Given a partition $[\\lambda_1,\\ldots,\\lambda_a]$ of $n$ of length $a$, we check whether this partition satisfies the list of inequalities given by a vector $\\beta$ with $(a-1)$ entries of 0's and 1's. More precisely:\n",
    "\n",
    "The function `check_partition_vs_ineqs` has:\n",
    "- input: a `partition` of $n$ of length $a$, and a list `choice_of_ineqs` of $a-1$ 0's and 1's\n",
    "- output: `True` or `False` depending on whether the partition $\\{\\lambda_1,\\ldots,\\lambda_a\\}$ satisfies the given list of inequalities."
   ]
  },
  {
   "cell_type": "code",
   "execution_count": 263,
   "id": "6b2a43c0",
   "metadata": {},
   "outputs": [],
   "source": [
    "def check_partition_vs_ineqs(partition,choice_of_ineqs):\n",
    "    import itertools\n",
    "    partition_str = [str(p) for p in partition]\n",
    "    list_of_zipped_strings = [x for x in itertools.chain.from_iterable(itertools.zip_longest(partition_str,list(choice_of_ineqs))) if x]\n",
    "    joined_string = \"\".join(list_of_zipped_strings)\n",
    "    return eval(joined_string)"
   ]
  },
  {
   "cell_type": "markdown",
   "id": "87b13ac4",
   "metadata": {},
   "source": [
    "For example:"
   ]
  },
  {
   "cell_type": "code",
   "execution_count": 264,
   "id": "d7fd5d73",
   "metadata": {
    "scrolled": true
   },
   "outputs": [
    {
     "name": "stdout",
     "output_type": "stream",
     "text": [
      "list of inequalities: ['>', '>=', '>']\n",
      "The partition [8, 1, 1, 1] satisfies the inequalites ['>', '>=', '>'] : False\n",
      "The partition [7, 2, 1, 1] satisfies the inequalites ['>', '>=', '>'] : False\n",
      "The partition [6, 3, 1, 1] satisfies the inequalites ['>', '>=', '>'] : False\n",
      "The partition [6, 2, 2, 1] satisfies the inequalites ['>', '>=', '>'] : True\n",
      "The partition [5, 4, 1, 1] satisfies the inequalites ['>', '>=', '>'] : False\n",
      "The partition [5, 3, 2, 1] satisfies the inequalites ['>', '>=', '>'] : True\n",
      "The partition [5, 2, 2, 2] satisfies the inequalites ['>', '>=', '>'] : False\n",
      "The partition [4, 4, 2, 1] satisfies the inequalites ['>', '>=', '>'] : False\n",
      "The partition [4, 3, 3, 1] satisfies the inequalites ['>', '>=', '>'] : True\n",
      "The partition [4, 3, 2, 2] satisfies the inequalites ['>', '>=', '>'] : False\n",
      "The partition [3, 3, 3, 2] satisfies the inequalites ['>', '>=', '>'] : False\n"
     ]
    }
   ],
   "source": [
    "n = 11\n",
    "a = 4\n",
    "\n",
    "import random\n",
    "vec = [random.choice([0, 1]) for _ in range(a-1)]\n",
    "choice_of_ineqs = vector_to_ineqs(vec)\n",
    "\n",
    "parts = Partitions(n,length=a)\n",
    "\n",
    "print('list of inequalities:',choice_of_ineqs)\n",
    "\n",
    "for p in parts:\n",
    "    print('The partition',p,'satisfies the inequalites',choice_of_ineqs,':',check_partition_vs_ineqs(p,choice_of_ineqs))"
   ]
  },
  {
   "cell_type": "markdown",
   "id": "726af2fc",
   "metadata": {},
   "source": [
    "Given a number $n$, a length $a$ and a list $\\beta$ of 0's and 1's, we compute all the partitions of $n$ of size $a$ that satisfy the inequalities associated to $\\beta$.\n",
    "\n",
    "The function `partitions_from_ineqs` has:\n",
    "- input: a number `n`, a length `a` and a list `vec` of $a-1$ 0's and 1's\n",
    "- output: the complete list of partitions of $n$ of length $a$ that satisfy the inequalities associated to `vec`."
   ]
  },
  {
   "cell_type": "code",
   "execution_count": 265,
   "id": "d6d30fe6",
   "metadata": {},
   "outputs": [],
   "source": [
    "def partitions_from_ineqs(n,a,vec):\n",
    "    parts = Partitions(n,length=a)\n",
    "    choice_of_ineqs = vector_to_ineqs(vec)\n",
    "    return [p for p in parts if check_partition_vs_ineqs(p,choice_of_ineqs)]"
   ]
  },
  {
   "cell_type": "markdown",
   "id": "7ba38dac",
   "metadata": {},
   "source": [
    "For example:"
   ]
  },
  {
   "cell_type": "code",
   "execution_count": 266,
   "id": "24775e64",
   "metadata": {},
   "outputs": [
    {
     "name": "stdout",
     "output_type": "stream",
     "text": [
      "list of inequalities: ['>', '>=', '>']\n",
      "partitions of 11 of length 4 that satisfy ['>', '>=', '>'] :\n",
      "[6, 2, 2, 1]\n",
      "[5, 3, 2, 1]\n",
      "[4, 3, 3, 1]\n",
      "[6, 2, 2, 1]\n"
     ]
    }
   ],
   "source": [
    "n = 11\n",
    "a = 4\n",
    "\n",
    "import random\n",
    "vec = [random.choice([0, 1]) for _ in range(a-1)]\n",
    "choice_of_ineqs = vector_to_ineqs(vec)\n",
    "\n",
    "print('list of inequalities:',choice_of_ineqs)\n",
    "print('partitions of',n,'of length',a,'that satisfy',choice_of_ineqs,':')\n",
    "for p in partitions_from_ineqs(n,a,vec):\n",
    "    print(p)\n",
    "    \n",
    "print(list(partitions_from_ineqs(n,a,vec)[0]))"
   ]
  },
  {
   "cell_type": "markdown",
   "id": "ac685502",
   "metadata": {},
   "source": [
    "The $q$-series $U^{(\\beta)}_a$ is defined as\n",
    "$$U^{(\\beta)}_a (q) = \\sum_{k} \\frac{q^{|k|}}{(1-q^k)^2}$$\n",
    "where we are using multindex notation, i.e.\n",
    "$$k=(k_1,\\ldots,k_a),\\quad |k|=k_1+\\cdots+k_a,\\quad (1-q^k)^2=(1-q^{k_1})^2\\cdots(1-q^{k_a})^2$$"
   ]
  },
  {
   "cell_type": "markdown",
   "id": "2d0e8147",
   "metadata": {},
   "source": [
    "The function `U` has\n",
    "- input: `a` an positive integer, `vec` a list of $a-1$ 0's and 1's and `r` a positive integer\n",
    "- output: the $q$-series $U^{\\beta}_a (q)$ up to $O(q^r)$."
   ]
  },
  {
   "cell_type": "code",
   "execution_count": 267,
   "id": "11481d3f",
   "metadata": {},
   "outputs": [],
   "source": [
    "B.<q> = PowerSeriesRing(QQ,default_prec=200)\n",
    "\n",
    "def U_term(part_index):\n",
    "    return q^(sum(i for i in part_index))*(prod((1-q^u)^(-2) for u in part_index))\n",
    "\n",
    "def U(a,vec,r):\n",
    "    choice_of_ineqs = vector_to_ineqs(vec)\n",
    "    index_set = []\n",
    "    for n in range(0,r+1):\n",
    "        for p in partitions_from_ineqs(n,a,vec):\n",
    "            index_set.append(list(p))\n",
    "    return sum(U_term(k) for k in index_set).add_bigoh(r)"
   ]
  },
  {
   "cell_type": "markdown",
   "id": "096505e6",
   "metadata": {},
   "source": [
    "For example:"
   ]
  },
  {
   "cell_type": "code",
   "execution_count": 306,
   "id": "3859ae52",
   "metadata": {},
   "outputs": [
    {
     "name": "stdout",
     "output_type": "stream",
     "text": [
      "list of inequalities: ['>=', '>', '>=']\n",
      "-----------------------------------------------------------------------------\n",
      "Partitions of 0 of length 4 satisfying ['>=', '>', '>='] is:\n",
      "-----------------------------------------------------------------------------\n",
      "Partitions of 1 of length 4 satisfying ['>=', '>', '>='] is:\n",
      "-----------------------------------------------------------------------------\n",
      "Partitions of 2 of length 4 satisfying ['>=', '>', '>='] is:\n",
      "-----------------------------------------------------------------------------\n",
      "Partitions of 3 of length 4 satisfying ['>=', '>', '>='] is:\n",
      "-----------------------------------------------------------------------------\n",
      "Partitions of 4 of length 4 satisfying ['>=', '>', '>='] is:\n",
      "-----------------------------------------------------------------------------\n",
      "Partitions of 5 of length 4 satisfying ['>=', '>', '>='] is:\n",
      "-----------------------------------------------------------------------------\n",
      "Partitions of 6 of length 4 satisfying ['>=', '>', '>='] is:\n",
      "[2, 2, 1, 1] --> q^6 + 4*q^7 + 14*q^8 + 36*q^9 + O(q^10)\n",
      "-----------------------------------------------------------------------------\n",
      "Partitions of 7 of length 4 satisfying ['>=', '>', '>='] is:\n",
      "[3, 2, 1, 1] --> q^7 + 4*q^8 + 12*q^9 + O(q^10)\n",
      "-----------------------------------------------------------------------------\n",
      "Partitions of 8 of length 4 satisfying ['>=', '>', '>='] is:\n",
      "[4, 2, 1, 1] --> q^8 + 4*q^9 + O(q^10)\n",
      "[3, 3, 1, 1] --> q^8 + 4*q^9 + O(q^10)\n",
      "-----------------------------------------------------------------------------\n",
      "The q-series U is: q^6 + 5*q^7 + O(q^8)\n"
     ]
    }
   ],
   "source": [
    "a = 4\n",
    "vec = [0,1,0]\n",
    "r = 8\n",
    "\n",
    "choice_of_ineqs = vector_to_ineqs(vec)\n",
    "print('list of inequalities:',choice_of_ineqs)\n",
    "\n",
    "index_set = []\n",
    "for n in range(0,r+1):\n",
    "    print('-----------------------------------------------------------------------------')\n",
    "    print('Partitions of',n,'of length',a,'satisfying',choice_of_ineqs,'is:')\n",
    "    for p in partitions_from_ineqs(n,a,vec):\n",
    "        print(p,'-->',U_term(p).add_bigoh(r+2))\n",
    "        index_set.append(list(p))\n",
    "print('-----------------------------------------------------------------------------')       \n",
    "print('The q-series U is:',U(a,vec,r))"
   ]
  },
  {
   "cell_type": "code",
   "execution_count": 308,
   "id": "c12b50fc",
   "metadata": {
    "scrolled": true
   },
   "outputs": [
    {
     "name": "stdout",
     "output_type": "stream",
     "text": [
      "Size of monomial basis: 11\n",
      "---------------------------\n",
      "Let:\n",
      "f =  q^4 + 9*q^5 + 44*q^6 + 156*q^7 + 450*q^8 + 1121*q^9 + 2508*q^10 + 5139*q^11 + 9867*q^12 + 17831*q^13 + 30888*q^14 + 51117*q^15 + 82212*q^16 + 127458*q^17 + 193809*q^18 + 285702*q^19 + O(q^20)\n",
      "---------------------------\n",
      "The associated polynomial is:\n",
      "F = 1/7962624*P^4 + 5/1990656*P^3 + 1/3317760*P^2*Q + 37/2211840*P^2 + 1/331776*P*Q + 19/116121600*Q^2 + 1/4354560*P*R + 5/172032*P + 37/5529600*Q + 1/870912*R - 27859/464486400\n",
      "---------------------------\n",
      "The difference f-F is:\n",
      "O(q^20)\n"
     ]
    }
   ],
   "source": [
    "a = 4\n",
    "vec = [0,0,0]\n",
    "r = 20\n",
    "f = U(a,vec,r)\n",
    "pol = associated_poly(2*a,f)\n",
    "\n",
    "print('Size of monomial basis:',len(monomial_exponents(2*a)))\n",
    "print('---------------------------')\n",
    "print('Let:')\n",
    "print('f = ',f)\n",
    "print('---------------------------')\n",
    "print('The associated polynomial is:')\n",
    "print('F =',pol)\n",
    "print('---------------------------')\n",
    "print('The difference f-F is:')\n",
    "print(f-pol(E2,E4,E6))"
   ]
  },
  {
   "cell_type": "markdown",
   "id": "cc47476c",
   "metadata": {},
   "source": [
    "To test the quasi-modularity of $U^{(\\beta)}_a$ for all binary lists $\\beta$, we have the following function that lists all possible such $\\beta$."
   ]
  },
  {
   "cell_type": "code",
   "execution_count": 272,
   "id": "f7e53bcd",
   "metadata": {},
   "outputs": [],
   "source": [
    "def generate_binary_lists(length):\n",
    "    all_binary_lists = []\n",
    "    total_possibilities = 2**length\n",
    "    for i in range(total_possibilities):\n",
    "        binary_str = bin(i)[2:].zfill(length)  # Convert to binary and pad with zeros\n",
    "        binary_list = [int(bit) for bit in binary_str]\n",
    "        all_binary_lists.append(binary_list)\n",
    "    \n",
    "    return all_binary_lists"
   ]
  },
  {
   "cell_type": "markdown",
   "id": "ec6ccfa6",
   "metadata": {},
   "source": [
    "For example,"
   ]
  },
  {
   "cell_type": "code",
   "execution_count": 273,
   "id": "8e48828f",
   "metadata": {
    "scrolled": true
   },
   "outputs": [
    {
     "data": {
      "text/plain": [
       "[[0, 0, 0],\n",
       " [0, 0, 1],\n",
       " [0, 1, 0],\n",
       " [0, 1, 1],\n",
       " [1, 0, 0],\n",
       " [1, 0, 1],\n",
       " [1, 1, 0],\n",
       " [1, 1, 1]]"
      ]
     },
     "execution_count": 273,
     "metadata": {},
     "output_type": "execute_result"
    }
   ],
   "source": [
    "a = 4\n",
    "generate_binary_lists(a-1)"
   ]
  },
  {
   "cell_type": "markdown",
   "id": "b4aa0339",
   "metadata": {},
   "source": [
    "Given $a$, there are $2^{a-1}$ different $U^{(\\beta)}_a$. For each of these, we compute the associated polynomial and the difference between the evaluated associated polynomial and $U^{(\\beta)}_a$."
   ]
  },
  {
   "cell_type": "code",
   "execution_count": 274,
   "id": "914d0d99",
   "metadata": {},
   "outputs": [
    {
     "name": "stdout",
     "output_type": "stream",
     "text": [
      "Size of monomial generating set: 11\n",
      "-----------------------------\n",
      "For U _ 4 ^ [0, 0, 0] = q^4 + O(q^5) , then U - associated_poly(U) = O(q^12)\n",
      "-----------------------------\n",
      "For U _ 4 ^ [0, 0, 1] = q^7 + O(q^8) , then U - associated_poly(U) = -3/20*q^11 + O(q^12)\n",
      "-----------------------------\n",
      "For U _ 4 ^ [0, 1, 0] = q^6 + O(q^7) , then U - associated_poly(U) = -61/20*q^11 + O(q^12)\n",
      "-----------------------------\n",
      "For U _ 4 ^ [0, 1, 1] = q^9 + O(q^10) , then U - associated_poly(U) = -9/4*q^11 + O(q^12)\n",
      "-----------------------------\n",
      "For U _ 4 ^ [1, 0, 0] = q^5 + O(q^6) , then U - associated_poly(U) = 16/5*q^11 + O(q^12)\n",
      "-----------------------------\n",
      "For U _ 4 ^ [1, 0, 1] = q^8 + O(q^9) , then U - associated_poly(U) = 61/20*q^11 + O(q^12)\n",
      "-----------------------------\n",
      "For U _ 4 ^ [1, 1, 0] = q^7 + O(q^8) , then U - associated_poly(U) = -4/5*q^11 + O(q^12)\n",
      "-----------------------------\n",
      "For U _ 4 ^ [1, 1, 1] = q^10 + O(q^11) , then U - associated_poly(U) = O(q^12)\n"
     ]
    }
   ],
   "source": [
    "a = 4\n",
    "all_vectors = generate_binary_lists(a-1)\n",
    "mon_size = len(monomial_exponents(2*a))\n",
    "r = mon_size +10\n",
    "\n",
    "print('Size of monomial generating set:',mon_size)\n",
    "\n",
    "for vec in all_vectors:\n",
    "    f = U(a,vec,r)\n",
    "    pol = associated_poly(2*a,f)\n",
    "    print('-----------------------------')\n",
    "    print('For U _',a,'^',vec,'=',f.add_bigoh(f.valuation()+1),', then U - associated_poly(U) =',(f-pol(E2,E4,E6)).add_bigoh(mon_size+1))"
   ]
  },
  {
   "cell_type": "code",
   "execution_count": 275,
   "id": "1b8c8581",
   "metadata": {},
   "outputs": [],
   "source": [
    "def check_all_U_for_fixed_a(a):\n",
    "    all_vectors = generate_binary_lists(a-1)\n",
    "    mon_size = len(monomial_exponents(2*a))\n",
    "    r = mon_size + 1\n",
    "    quasi_modular_forms = []\n",
    "    for vec in all_vectors:\n",
    "        f = U(a,vec,r)\n",
    "        pol = associated_poly(2*a,f)\n",
    "        if (f-pol(E2,E4,E6)).truncate(mon_size+1)==0:\n",
    "            quasi_modular_forms.append(vec)\n",
    "        else:\n",
    "            pass\n",
    "    return quasi_modular_forms\n",
    "\n",
    "def check_all_U_for_fixed_a_verbose(a):\n",
    "    all_vectors = generate_binary_lists(a-1)\n",
    "    mon_size = len(monomial_exponents(2*a))\n",
    "    r = mon_size + 1\n",
    "    print('Size of monomial generating set:',mon_size)\n",
    "    print('--------------------------------------')\n",
    "    for vec in all_vectors:\n",
    "        f = U(a,vec,r)\n",
    "        pol = associated_poly(2*a,f)\n",
    "        print('For U _',a,'^',vec,'=',f.add_bigoh(f.valuation()+1),', then U - associated_poly(U) =',(f-pol(E2,E4,E6)).add_bigoh(mon_size+1))\n",
    "        print('--------------------------------------')\n",
    "    return ''"
   ]
  },
  {
   "cell_type": "code",
   "execution_count": 276,
   "id": "b1e533bb",
   "metadata": {},
   "outputs": [
    {
     "name": "stdout",
     "output_type": "stream",
     "text": [
      "Short Answer:\n",
      "--------------------------------------\n",
      "Inequalities for which U _ 4 is quasi-modular:\n",
      "['>=', '>=', '>=']\n",
      "['>', '>', '>']\n",
      "------------------------------------------------\n",
      "Long Answer:\n",
      "--------------------------------------\n",
      "Size of monomial generating set: 11\n",
      "--------------------------------------\n",
      "For U _ 4 ^ [0, 0, 0] = q^4 + O(q^5) , then U - associated_poly(U) = O(q^12)\n",
      "--------------------------------------\n",
      "For U _ 4 ^ [0, 0, 1] = q^7 + O(q^8) , then U - associated_poly(U) = -3/20*q^11 + O(q^12)\n",
      "--------------------------------------\n",
      "For U _ 4 ^ [0, 1, 0] = q^6 + O(q^7) , then U - associated_poly(U) = -61/20*q^11 + O(q^12)\n",
      "--------------------------------------\n",
      "For U _ 4 ^ [0, 1, 1] = q^9 + O(q^10) , then U - associated_poly(U) = -9/4*q^11 + O(q^12)\n",
      "--------------------------------------\n",
      "For U _ 4 ^ [1, 0, 0] = q^5 + O(q^6) , then U - associated_poly(U) = 16/5*q^11 + O(q^12)\n",
      "--------------------------------------\n",
      "For U _ 4 ^ [1, 0, 1] = q^8 + O(q^9) , then U - associated_poly(U) = 61/20*q^11 + O(q^12)\n",
      "--------------------------------------\n",
      "For U _ 4 ^ [1, 1, 0] = q^7 + O(q^8) , then U - associated_poly(U) = -4/5*q^11 + O(q^12)\n",
      "--------------------------------------\n",
      "For U _ 4 ^ [1, 1, 1] = q^10 + O(q^11) , then U - associated_poly(U) = O(q^12)\n",
      "--------------------------------------\n",
      "\n"
     ]
    }
   ],
   "source": [
    "a = 4\n",
    "\n",
    "print('Short Answer:')\n",
    "print('--------------------------------------')\n",
    "print('Inequalities for which U _',a,'is quasi-modular:')\n",
    "for x in check_all_U_for_fixed_a(a):\n",
    "    print(vector_to_ineqs(x))\n",
    "\n",
    "print('------------------------------------------------')\n",
    "print('Long Answer:')\n",
    "print('--------------------------------------')\n",
    "print(check_all_U_for_fixed_a_verbose(a))"
   ]
  },
  {
   "cell_type": "code",
   "execution_count": 277,
   "id": "20ad60f4",
   "metadata": {},
   "outputs": [
    {
     "name": "stdout",
     "output_type": "stream",
     "text": [
      "Short Answer:\n",
      "--------------------------------------\n",
      "Inequalities for which U _ 5 is quasi-modular:\n",
      "['>=', '>=', '>=', '>=']\n",
      "['>', '>', '>', '>']\n",
      "------------------------------------------------\n",
      "Long Answer:\n",
      "--------------------------------------\n",
      "Size of monomial generating set: 16\n",
      "--------------------------------------\n",
      "For U _ 5 ^ [0, 0, 0, 0] = q^5 + O(q^6) , then U - associated_poly(U) = O(q^17)\n",
      "--------------------------------------\n",
      "For U _ 5 ^ [0, 0, 0, 1] = q^9 + O(q^10) , then U - associated_poly(U) = -16/5*q^16 + O(q^17)\n",
      "--------------------------------------\n",
      "For U _ 5 ^ [0, 0, 1, 0] = q^8 + O(q^9) , then U - associated_poly(U) = 56/11*q^16 + O(q^17)\n",
      "--------------------------------------\n",
      "For U _ 5 ^ [0, 0, 1, 1] = q^12 + O(q^13) , then U - associated_poly(U) = 103/11*q^16 + O(q^17)\n",
      "--------------------------------------\n",
      "For U _ 5 ^ [0, 1, 0, 0] = q^7 + O(q^8) , then U - associated_poly(U) = -1646/55*q^16 + O(q^17)\n",
      "--------------------------------------\n",
      "For U _ 5 ^ [0, 1, 0, 1] = q^11 + O(q^12) , then U - associated_poly(U) = -128/5*q^16 + O(q^17)\n",
      "--------------------------------------\n",
      "For U _ 5 ^ [0, 1, 1, 0] = q^10 + O(q^11) , then U - associated_poly(U) = -81/5*q^16 + O(q^17)\n",
      "--------------------------------------\n",
      "For U _ 5 ^ [0, 1, 1, 1] = q^14 + O(q^15) , then U - associated_poly(U) = -28/5*q^16 + O(q^17)\n",
      "--------------------------------------\n",
      "For U _ 5 ^ [1, 0, 0, 0] = q^6 + O(q^7) , then U - associated_poly(U) = 1542/55*q^16 + O(q^17)\n",
      "--------------------------------------\n",
      "For U _ 5 ^ [1, 0, 0, 1] = q^10 + O(q^11) , then U - associated_poly(U) = 1158/55*q^16 + O(q^17)\n",
      "--------------------------------------\n",
      "For U _ 5 ^ [1, 0, 1, 0] = q^9 + O(q^10) , then U - associated_poly(U) = 1616/55*q^16 + O(q^17)\n",
      "--------------------------------------\n",
      "For U _ 5 ^ [1, 0, 1, 1] = q^13 + O(q^14) , then U - associated_poly(U) = 399/55*q^16 + O(q^17)\n",
      "--------------------------------------\n",
      "For U _ 5 ^ [1, 1, 0, 0] = q^8 + O(q^9) , then U - associated_poly(U) = -18*q^16 + O(q^17)\n",
      "--------------------------------------\n",
      "For U _ 5 ^ [1, 1, 0, 1] = q^12 + O(q^13) , then U - associated_poly(U) = 284/55*q^16 + O(q^17)\n",
      "--------------------------------------\n",
      "For U _ 5 ^ [1, 1, 1, 0] = q^11 + O(q^12) , then U - associated_poly(U) = -75/11*q^16 + O(q^17)\n",
      "--------------------------------------\n",
      "For U _ 5 ^ [1, 1, 1, 1] = q^15 + O(q^16) , then U - associated_poly(U) = O(q^17)\n",
      "--------------------------------------\n",
      "\n"
     ]
    }
   ],
   "source": [
    "a = 5\n",
    "\n",
    "print('Short Answer:')\n",
    "print('--------------------------------------')\n",
    "print('Inequalities for which U _',a,'is quasi-modular:')\n",
    "for x in check_all_U_for_fixed_a(a):\n",
    "    print(vector_to_ineqs(x))\n",
    "\n",
    "print('------------------------------------------------')\n",
    "print('Long Answer:')\n",
    "print('--------------------------------------')\n",
    "print(check_all_U_for_fixed_a_verbose(a))"
   ]
  },
  {
   "cell_type": "code",
   "execution_count": 278,
   "id": "cf721748",
   "metadata": {},
   "outputs": [],
   "source": [
    "#a = 6\n",
    "\n",
    "#print('Short Answer:')\n",
    "#print('--------------------------------------')\n",
    "#print('Inequalities for which U _',a,'is quasi-modular:')\n",
    "#for x in check_all_U_for_fixed_a(a):\n",
    "#    print(vector_to_ineqs(x))\n",
    "#\n",
    "#print('------------------------------------------------')\n",
    "#print('Long Answer:')\n",
    "#print('--------------------------------------')\n",
    "#print(check_all_U_for_fixed_a_verbose(a))"
   ]
  },
  {
   "cell_type": "code",
   "execution_count": 279,
   "id": "1475f180",
   "metadata": {},
   "outputs": [
    {
     "name": "stdout",
     "output_type": "stream",
     "text": [
      "Short Answer:\n",
      "--------------------------------------\n",
      "Inequalities for which U _ 2 is quasi-modular:\n",
      "['>=']\n",
      "['>']\n",
      "--------------------------------------\n",
      "Elapsed time: 0.009499 seconds\n"
     ]
    }
   ],
   "source": [
    "# <1 sec for a=2\n",
    "a = 2\n",
    "import time\n",
    "\n",
    "\n",
    "print('Short Answer:')\n",
    "print('--------------------------------------')\n",
    "print('Inequalities for which U _',a,'is quasi-modular:')\n",
    "\n",
    "# Record the start time\n",
    "start_time = time.time()\n",
    "\n",
    "for x in check_all_U_for_fixed_a(a):\n",
    "    print(vector_to_ineqs(x))\n",
    "\n",
    "# Record the end time\n",
    "end_time = time.time()\n",
    "\n",
    "# Calculate and print the elapsed time\n",
    "elapsed_time = end_time - start_time\n",
    "print('--------------------------------------')\n",
    "print(f\"Elapsed time: {elapsed_time:.6f} seconds\")"
   ]
  },
  {
   "cell_type": "code",
   "execution_count": 280,
   "id": "22c5220e",
   "metadata": {},
   "outputs": [
    {
     "name": "stdout",
     "output_type": "stream",
     "text": [
      "Short Answer:\n",
      "--------------------------------------\n",
      "Inequalities for which U _ 3 is quasi-modular:\n",
      "['>=', '>=']\n",
      "['>', '>']\n",
      "--------------------------------------\n",
      "Elapsed time: 0.093534 seconds\n"
     ]
    }
   ],
   "source": [
    "# <1 sec for a=3\n",
    "a = 3\n",
    "import time\n",
    "\n",
    "\n",
    "print('Short Answer:')\n",
    "print('--------------------------------------')\n",
    "print('Inequalities for which U _',a,'is quasi-modular:')\n",
    "\n",
    "# Record the start time\n",
    "start_time = time.time()\n",
    "\n",
    "for x in check_all_U_for_fixed_a(a):\n",
    "    print(vector_to_ineqs(x))\n",
    "\n",
    "# Record the end time\n",
    "end_time = time.time()\n",
    "\n",
    "# Calculate and print the elapsed time\n",
    "elapsed_time = end_time - start_time\n",
    "print('--------------------------------------')\n",
    "print(f\"Elapsed time: {elapsed_time:.6f} seconds\")"
   ]
  },
  {
   "cell_type": "code",
   "execution_count": 281,
   "id": "35bffebf",
   "metadata": {},
   "outputs": [
    {
     "name": "stdout",
     "output_type": "stream",
     "text": [
      "Short Answer:\n",
      "--------------------------------------\n",
      "Inequalities for which U _ 4 is quasi-modular:\n",
      "['>=', '>=', '>=']\n",
      "['>', '>', '>']\n",
      "--------------------------------------\n",
      "Elapsed time: 0.169416 seconds\n"
     ]
    }
   ],
   "source": [
    "# <1 sec for a=4\n",
    "a = 4\n",
    "import time\n",
    "\n",
    "\n",
    "print('Short Answer:')\n",
    "print('--------------------------------------')\n",
    "print('Inequalities for which U _',a,'is quasi-modular:')\n",
    "\n",
    "# Record the start time\n",
    "start_time = time.time()\n",
    "\n",
    "for x in check_all_U_for_fixed_a(a):\n",
    "    print(vector_to_ineqs(x))\n",
    "\n",
    "# Record the end time\n",
    "end_time = time.time()\n",
    "\n",
    "# Calculate and print the elapsed time\n",
    "elapsed_time = end_time - start_time\n",
    "print('--------------------------------------')\n",
    "print(f\"Elapsed time: {elapsed_time:.6f} seconds\")"
   ]
  },
  {
   "cell_type": "code",
   "execution_count": 282,
   "id": "271b00e0",
   "metadata": {},
   "outputs": [
    {
     "name": "stdout",
     "output_type": "stream",
     "text": [
      "Short Answer:\n",
      "--------------------------------------\n",
      "Inequalities for which U _ 5 is quasi-modular:\n",
      "['>=', '>=', '>=', '>=']\n",
      "['>', '>', '>', '>']\n",
      "--------------------------------------\n",
      "Elapsed time: 0.828292 seconds\n"
     ]
    }
   ],
   "source": [
    "# <1 sec for a=5\n",
    "a = 5\n",
    "import time\n",
    "\n",
    "\n",
    "print('Short Answer:')\n",
    "print('--------------------------------------')\n",
    "print('Inequalities for which U _',a,'is quasi-modular:')\n",
    "\n",
    "# Record the start time\n",
    "start_time = time.time()\n",
    "\n",
    "for x in check_all_U_for_fixed_a(a):\n",
    "    print(vector_to_ineqs(x))\n",
    "\n",
    "# Record the end time\n",
    "end_time = time.time()\n",
    "\n",
    "# Calculate and print the elapsed time\n",
    "elapsed_time = end_time - start_time\n",
    "print('--------------------------------------')\n",
    "print(f\"Elapsed time: {elapsed_time:.6f} seconds\")"
   ]
  },
  {
   "cell_type": "code",
   "execution_count": 283,
   "id": "1b2efb7e",
   "metadata": {},
   "outputs": [
    {
     "name": "stdout",
     "output_type": "stream",
     "text": [
      "Short Answer:\n",
      "--------------------------------------\n",
      "Inequalities for which U _ 6 is quasi-modular:\n",
      "['>=', '>=', '>=', '>=', '>=']\n",
      "['>', '>', '>', '>', '>']\n",
      "--------------------------------------\n",
      "Elapsed time: 4.501560 seconds\n"
     ]
    }
   ],
   "source": [
    "# ~4.5 sec for a=6\n",
    "a = 6\n",
    "import time\n",
    "\n",
    "\n",
    "print('Short Answer:')\n",
    "print('--------------------------------------')\n",
    "print('Inequalities for which U _',a,'is quasi-modular:')\n",
    "\n",
    "# Record the start time\n",
    "start_time = time.time()\n",
    "\n",
    "for x in check_all_U_for_fixed_a(a):\n",
    "    print(vector_to_ineqs(x))\n",
    "\n",
    "# Record the end time\n",
    "end_time = time.time()\n",
    "\n",
    "# Calculate and print the elapsed time\n",
    "elapsed_time = end_time - start_time\n",
    "print('--------------------------------------')\n",
    "print(f\"Elapsed time: {elapsed_time:.6f} seconds\")"
   ]
  },
  {
   "cell_type": "code",
   "execution_count": 284,
   "id": "e3c2a394",
   "metadata": {},
   "outputs": [],
   "source": [
    "# ~29 sec for a=7\n",
    "#a = 7\n",
    "#import time\n",
    "\n",
    "#print('Short Answer:')\n",
    "#print('--------------------------------------')\n",
    "#print('Inequalities for which U _',a,'is quasi-modular:')\n",
    "\n",
    "# Record the start time\n",
    "#start_time = time.time()\n",
    "\n",
    "#for x in check_all_U_for_fixed_a(a):\n",
    "#    print(vector_to_ineqs(x))\n",
    "\n",
    "# Record the end time\n",
    "#end_time = time.time()\n",
    "\n",
    "# Calculate and print the elapsed time\n",
    "#elapsed_time = end_time - start_time\n",
    "#print('--------------------------------------')\n",
    "#print(f\"Elapsed time: {elapsed_time:.6f} seconds\")"
   ]
  },
  {
   "cell_type": "code",
   "execution_count": 285,
   "id": "bb05d018",
   "metadata": {},
   "outputs": [],
   "source": [
    "# ~260 sec for a=8\n",
    "#a = 8\n",
    "#import time\n",
    "\n",
    "#print('Short Answer:')\n",
    "#print('--------------------------------------')\n",
    "#print('Inequalities for which U _',a,'is quasi-modular:')\n",
    "\n",
    "# Record the start time\n",
    "#start_time = time.time()\n",
    "\n",
    "#for x in check_all_U_for_fixed_a(a):\n",
    "#    print(vector_to_ineqs(x))\n",
    "\n",
    "# Record the end time\n",
    "#end_time = time.time()\n",
    "\n",
    "# Calculate and print the elapsed time\n",
    "#elapsed_time = end_time - start_time\n",
    "#print('--------------------------------------')\n",
    "#print(f\"Elapsed time: {elapsed_time:.6f} seconds\")"
   ]
  },
  {
   "cell_type": "code",
   "execution_count": 286,
   "id": "0db82bb7",
   "metadata": {},
   "outputs": [],
   "source": [
    "# ~2972 sec ~ 50min for a=9\n",
    "#a = 9\n",
    "#import time\n",
    "\n",
    "\n",
    "#print('Short Answer:')\n",
    "#print('--------------------------------------')\n",
    "#print('Inequalities for which U _',a,'is quasi-modular:')\n",
    "\n",
    "# Record the start time\n",
    "#start_time = time.time()\n",
    "\n",
    "#for x in check_all_U_for_fixed_a(a):\n",
    "#    print(vector_to_ineqs(x))\n",
    "\n",
    "# Record the end time\n",
    "#end_time = time.time()\n",
    "\n",
    "# Calculate and print the elapsed time\n",
    "#elapsed_time = end_time - start_time\n",
    "#print('--------------------------------------')\n",
    "#print(f\"Elapsed time: {elapsed_time:.6f} seconds\")"
   ]
  },
  {
   "cell_type": "markdown",
   "id": "53c7ba76",
   "metadata": {},
   "source": [
    "---\n",
    "\n",
    "## Scratch"
   ]
  },
  {
   "cell_type": "code",
   "execution_count": 287,
   "id": "4b4e4f1c",
   "metadata": {},
   "outputs": [
    {
     "name": "stdout",
     "output_type": "stream",
     "text": [
      "1 = 1\n",
      "E2 = 1 - 24*q - 72*q^2 - 96*q^3 - 168*q^4 + O(q^5)\n",
      "E4 = 1 + 240*q + 2160*q^2 + 6720*q^3 + 17520*q^4 + O(q^5)\n",
      "E2^2 = 1 - 48*q + 432*q^2 + 3264*q^3 + 9456*q^4 + O(q^5)\n",
      "E6 = 1 - 504*q - 16632*q^2 - 122976*q^3 - 532728*q^4 + O(q^5)\n",
      "E2*E4 = 1 + 216*q - 3672*q^2 - 62496*q^3 - 322488*q^4 + O(q^5)\n",
      "E2^3 = 1 - 72*q + 1512*q^2 - 3744*q^3 - 95544*q^4 + O(q^5)\n"
     ]
    }
   ],
   "source": [
    "print('1 =',1)\n",
    "print('E2 =',E2.add_bigoh(5))\n",
    "print('E4 =',E4.add_bigoh(5))\n",
    "print('E2^2 =',(E2*E2).add_bigoh(5))\n",
    "print('E6 =',E6.add_bigoh(5))\n",
    "print('E2*E4 =',(E2)*(E4).add_bigoh(5))\n",
    "print('E2^3 =',(E2^3).add_bigoh(5))"
   ]
  },
  {
   "cell_type": "code",
   "execution_count": 305,
   "id": "cde71e3c",
   "metadata": {},
   "outputs": [
    {
     "name": "stdout",
     "output_type": "stream",
     "text": [
      "Diagonal Basis for Quasimodular forms of mixed weight <= 10\n",
      "Dimension of the space = 16\n",
      "----------------------------------------------------\n",
      "1 + O(q^17)\n",
      "denominators = {1}\n",
      "prime factors of the denominators = []\n",
      "----------------------------------------------------\n",
      "q - 4239/5*q^16 + O(q^17)\n",
      "denominators = {1, 34, 2, 5, 170, 10, 17, 85}\n",
      "prime factors of the denominators = [17, 2, 5]\n",
      "----------------------------------------------------\n",
      "q^2 + 3624/11*q^16 + O(q^17)\n",
      "denominators = {1, 11, 187, 17}\n",
      "prime factors of the denominators = [17, 11]\n",
      "----------------------------------------------------\n",
      "q^3 + 3723/5*q^16 + O(q^17)\n",
      "denominators = {1, 85, 5, 17}\n",
      "prime factors of the denominators = [17, 5]\n",
      "----------------------------------------------------\n",
      "q^4 - 3486/5*q^16 + O(q^17)\n",
      "denominators = {1, 85, 5, 17}\n",
      "prime factors of the denominators = [17, 5]\n",
      "----------------------------------------------------\n",
      "q^5 + 147*q^16 + O(q^17)\n",
      "denominators = {1, 2}\n",
      "prime factors of the denominators = [2]\n",
      "----------------------------------------------------\n",
      "q^6 + 252/5*q^16 + O(q^17)\n",
      "denominators = {1, 34, 2, 5, 170, 10, 17, 85}\n",
      "prime factors of the denominators = [17, 2, 5]\n",
      "----------------------------------------------------\n",
      "q^7 - 602/5*q^16 + O(q^17)\n",
      "denominators = {1, 85, 5, 17}\n",
      "prime factors of the denominators = [17, 5]\n",
      "----------------------------------------------------\n",
      "q^8 + 1051/5*q^16 + O(q^17)\n",
      "denominators = {1, 85, 5, 17}\n",
      "prime factors of the denominators = [17, 5]\n",
      "----------------------------------------------------\n",
      "q^9 - 99*q^16 + O(q^17)\n",
      "denominators = {1, 34, 2, 17}\n",
      "prime factors of the denominators = [17, 2]\n",
      "----------------------------------------------------\n",
      "q^10 - 88*q^16 + O(q^17)\n",
      "denominators = {1, 34, 2, 17}\n",
      "prime factors of the denominators = [17, 2]\n",
      "----------------------------------------------------\n",
      "q^11 + 91*q^16 + O(q^17)\n",
      "denominators = {1, 17}\n",
      "prime factors of the denominators = [17]\n",
      "----------------------------------------------------\n",
      "q^12 + 12/5*q^16 + O(q^17)\n",
      "denominators = {1, 85, 5, 17}\n",
      "prime factors of the denominators = [17, 5]\n",
      "----------------------------------------------------\n",
      "q^13 - 1488/55*q^16 + O(q^17)\n",
      "denominators = {1, 5, 935, 11, 17, 85, 55, 187}\n",
      "prime factors of the denominators = [17, 11, 5]\n",
      "----------------------------------------------------\n",
      "q^14 + 28/5*q^16 + O(q^17)\n",
      "denominators = {1, 34, 2, 5, 170, 10, 17, 85}\n",
      "prime factors of the denominators = [17, 2, 5]\n",
      "----------------------------------------------------\n",
      "q^15 + 3*q^16 + O(q^17)\n",
      "denominators = {1}\n",
      "prime factors of the denominators = []\n",
      "----------------------------------------------------\n",
      "all prime factors in all denominators: [17, 2, 11, 5]\n"
     ]
    }
   ],
   "source": [
    "k = 10; print('Diagonal Basis for Quasimodular forms of mixed weight <=',k)\n",
    "d = number_of_monomials(k); print('Dimension of the space =',d)\n",
    "\n",
    "mons_exp = monomial_exponents(k)\n",
    "mons = [qmform_from_exp(u) for u in mons_exp]\n",
    "\n",
    "A = basis_matrix(k)\n",
    "all_primes_in_all_denominators = []\n",
    "\n",
    "def flatten(x):\n",
    "    return [item for sublist in x if sublist for item in sublist]\n",
    "\n",
    "print('----------------------------------------------------')\n",
    "\n",
    "for r in range(0,d):\n",
    "    v = vector([0]*d)\n",
    "    v[r] = 1\n",
    "    sol = A.solve_right(v)\n",
    "    q_series = sum(sol[i]*mons[i] for i in range(0,d))\n",
    "    dens = set([denominator(a) for a in q_series.padded_list()])\n",
    "    primes_in_denominator = []\n",
    "    \n",
    "    for w in dens:\n",
    "        primes_in_denominator.append(prime_factors(w))\n",
    "    \n",
    "    flattened_primes_in_denominators = flatten(primes_in_denominator)\n",
    "    if flattened_primes_in_denominators == []:\n",
    "        all_primes_in_dens = []\n",
    "    else:\n",
    "        all_primes_in_dens = list(set(flattened_primes_in_denominators));\n",
    "        all_primes_in_all_denominators.append(all_primes_in_dens)\n",
    "    print(q_series.add_bigoh(d+1))\n",
    "    print('denominators =',dens)\n",
    "    print('prime factors of the denominators =',all_primes_in_dens)\n",
    "    print('----------------------------------------------------')\n",
    "    \n",
    "print('all prime factors in all denominators:',list(set(flatten(all_primes_in_all_denominators))))"
   ]
  },
  {
   "cell_type": "code",
   "execution_count": 289,
   "id": "7e5efe4f",
   "metadata": {},
   "outputs": [
    {
     "data": {
      "text/plain": [
       "[2, 3]"
      ]
     },
     "execution_count": 289,
     "metadata": {},
     "output_type": "execute_result"
    }
   ],
   "source": [
    "prime_factors(12)"
   ]
  },
  {
   "cell_type": "code",
   "execution_count": 290,
   "id": "bb4aac7c",
   "metadata": {},
   "outputs": [
    {
     "data": {
      "text/plain": [
       "7^2 * 181 * 2274779977 * 101891999837845369"
      ]
     },
     "execution_count": 290,
     "metadata": {},
     "output_type": "execute_result"
    }
   ],
   "source": [
    "factor(2055673503011323086129126293797)"
   ]
  },
  {
   "cell_type": "code",
   "execution_count": 291,
   "id": "dcc41623",
   "metadata": {},
   "outputs": [],
   "source": [
    "def theta(g):\n",
    "    return q * derivative(g,q,1)\n",
    "\n",
    "def iter_theta(g,n):\n",
    "    for _ in range(1, n+1):\n",
    "        g = theta(g)\n",
    "    return g"
   ]
  },
  {
   "cell_type": "code",
   "execution_count": 292,
   "id": "cba6e6d2",
   "metadata": {},
   "outputs": [
    {
     "name": "stdout",
     "output_type": "stream",
     "text": [
      "weight <= 8\n",
      "upper bound on the dimension = 11\n",
      "prime = 13\n",
      "------------------------------------------------------------\n",
      "f = \n",
      "4 - 408*q - 6840*q^2 + 246048*q^3 + 3246216*q^4 + 20149488*q^5 + 82273824*q^6 + 266018880*q^7 + 719517960*q^8 + 1717003464*q^9 + 3723294384*q^10 + 7445445984*q^11 + O(q^12)\n",
      "------------------------------------------------------------\n",
      "f modulo 13 =\n",
      "4 + 8*q + 11*q^2 + 10*q^3 + 12*q^4 + 8*q^5 + 9*q^6 + 10*q^7 + 5*q^8 + 7*q^9 + 4*q^10 + 2*q^11 + O(q^12)\n",
      "------------------------------------------------------------\n",
      "derivative # 1 of fbar is:\n",
      "10*q + 4*q^2 + 2*q^4 + 2*q^5 + 3*q^6 + 9*q^7 + q^8 + 4*q^10 + O(q^12)\n",
      "------------------------------------------------------------\n",
      "derivative # 2 of fbar is:\n",
      "10*q + 8*q^2 + 8*q^4 + 10*q^5 + 7*q^6 + 8*q^7 + 8*q^8 + 7*q^10 + O(q^12)\n",
      "------------------------------------------------------------\n"
     ]
    }
   ],
   "source": [
    "k = 8; print('weight <=',k)\n",
    "r = number_of_monomials(k); print('upper bound on the dimension =',r)\n",
    "p = 13; print('prime =',p)\n",
    "\n",
    "print('------------------------------------------------------------')\n",
    "\n",
    "f = E2^3 + E2*E6 + E2*E4 + E2; print('f = ')\n",
    "print(f.add_bigoh(r+1))\n",
    "\n",
    "print('------------------------------------------------------------')\n",
    "\n",
    "fbar = f.change_ring(GF(p)); print('f modulo',p,'=')\n",
    "print(fbar.add_bigoh(r+1))\n",
    "\n",
    "print('------------------------------------------------------------')\n",
    "\n",
    "for n in range(1,3):\n",
    "    nth_der_of_f = iter_theta(f,n)\n",
    "    nth_der_of_f_modp = nth_der_of_f.change_ring(GF(11))\n",
    "    print('derivative #',n,'of fbar is:')\n",
    "    print(nth_der_of_f_modp.add_bigoh(r+1))\n",
    "    print('------------------------------------------------------------')"
   ]
  },
  {
   "cell_type": "code",
   "execution_count": 293,
   "id": "a102b629",
   "metadata": {},
   "outputs": [
    {
     "name": "stdout",
     "output_type": "stream",
     "text": [
      "weight <= 8\n",
      "upper bound on the dimension = 11\n",
      "prime = 3\n",
      "------------------------------------------------------------\n",
      "f = \n",
      "4 - 408*q - 6840*q^2 + 246048*q^3 + 3246216*q^4 + 20149488*q^5 + 82273824*q^6 + 266018880*q^7 + 719517960*q^8 + 1717003464*q^9 + 3723294384*q^10 + 7445445984*q^11 + O(q^12)\n",
      "------------------------------------------------------------\n",
      "U_p(f) =\n",
      "4 + 246048*q + 82273824*q^2 + 1717003464*q^3 + 14026659360*q^4 + 69892592832*q^5 + 259154146728*q^6 + 774529860864*q^7 + 2012944834080*q^8 + 4618148400960*q^9 + 9800687468736*q^10 + 19122885714816*q^11 + O(q^12)\n",
      "------------------------------------------------------------\n",
      "V_p(f) =\n",
      "4 - 408*q^3 - 6840*q^6 + 246048*q^9 + O(q^12)\n",
      "------------------------------------------------------------\n",
      "T_5(f) =\n",
      "312504 + 20149488*q + 3723294384*q^2 + 69892592832*q^3 + 549803275056*q^4 + 2674774290528*q^5 + 9800687468736*q^6 + 28980925640064*q^7 + 74901797947440*q^8 + 170863467945264*q^9 + 361381667824224*q^10 + 702385848207936*q^11 + O(q^12)\n"
     ]
    }
   ],
   "source": [
    "k = 8; print('weight <=',k)\n",
    "r = number_of_monomials(k); print('upper bound on the dimension =',r)\n",
    "p = 3; print('prime =',p)\n",
    "\n",
    "print('------------------------------------------------------------')\n",
    "\n",
    "f = E2^3 + E2*E6 + E2*E4 + E2; print('f = ')\n",
    "print(f.add_bigoh(r+1))\n",
    "\n",
    "print('------------------------------------------------------------')\n",
    "\n",
    "print('U_p(f) =')\n",
    "print(Up(f,p).add_bigoh(r+1))\n",
    "\n",
    "print('------------------------------------------------------------')\n",
    "\n",
    "print('V_p(f) =')\n",
    "print(f.V(p).add_bigoh(r+1))\n",
    "print('------------------------------------------------------------')\n",
    "\n",
    "print('T_5(f) =')\n",
    "print(Tn(8,f,5).add_bigoh(r+1))"
   ]
  },
  {
   "cell_type": "code",
   "execution_count": 294,
   "id": "27d56997",
   "metadata": {},
   "outputs": [],
   "source": [
    "def Up(g,p):\n",
    "    B.<q> = PowerSeriesRing(QQ,default_prec=200)\n",
    "    coef_list = g.padded_list()\n",
    "    new_coef_list = coef_list[0::p]\n",
    "    return B(new_coef_list)\n",
    "\n",
    "def Tn(k,g,ell):\n",
    "    return Up(g,ell) + ell^(k-1) * (g.V(ell))"
   ]
  },
  {
   "cell_type": "code",
   "execution_count": 295,
   "id": "fd2830f0",
   "metadata": {},
   "outputs": [],
   "source": [
    "def det_mod_p(A,p):\n",
    "    A_modp = A.change_ring(GF(p))\n",
    "    return det(A_modp)"
   ]
  },
  {
   "cell_type": "code",
   "execution_count": 296,
   "id": "6a4d7900",
   "metadata": {},
   "outputs": [
    {
     "name": "stdout",
     "output_type": "stream",
     "text": [
      "for weights <= 2 , the first prime with nonzero determinant is p = 5 , with deteriminant = 1\n",
      "for weights <= 4 , the first prime with nonzero determinant is p = 7 , with deteriminant = 4\n",
      "for weights <= 6 , the first prime with nonzero determinant is p = 11 , with deteriminant = 4\n",
      "for weights <= 8 , the first prime with nonzero determinant is p = 11 , with deteriminant = 8\n",
      "for weights <= 10 , the first prime with nonzero determinant is p = 13 , with deteriminant = 8\n",
      "for weights <= 12 , the first prime with nonzero determinant is p = 17 , with deteriminant = 3\n",
      "for weights <= 14 , the first prime with nonzero determinant is p = 17 , with deteriminant = 4\n",
      "for weights <= 16 , the first prime with nonzero determinant is p = 19 , with deteriminant = 5\n",
      "for weights <= 18 , the first prime with nonzero determinant is p = 23 , with deteriminant = 8\n",
      "for weights <= 20 , the first prime with nonzero determinant is p = 23 , with deteriminant = 13\n",
      "----------------------------------------------------------------------\n",
      "Elapsed time: 0.916775 seconds\n"
     ]
    }
   ],
   "source": [
    "r = 10\n",
    "\n",
    "# Record the start time\n",
    "start_time = time.time()\n",
    "\n",
    "for k in [2*i for i in range(1, r+1)]:\n",
    "    A = basis_matrix(k)\n",
    "    i = 1\n",
    "    while det_mod_p(A,nth_prime(i)) == 0:\n",
    "        i += 1\n",
    "    print('for weights <=',k,', the first prime with nonzero determinant is p =',nth_prime(i),', with deteriminant =',det_mod_p(A,nth_prime(i)))\n",
    "\n",
    "# Record the end time\n",
    "end_time = time.time()\n",
    "\n",
    "# Calculate and print the elapsed time\n",
    "elapsed_time = end_time - start_time\n",
    "print('----------------------------------------------------------------------')\n",
    "print(f\"Elapsed time: {elapsed_time:.6f} seconds\")"
   ]
  },
  {
   "cell_type": "code",
   "execution_count": 297,
   "id": "011fe2b5",
   "metadata": {},
   "outputs": [
    {
     "data": {
      "text/plain": [
       "2*q"
      ]
     },
     "execution_count": 297,
     "metadata": {},
     "output_type": "execute_result"
    }
   ],
   "source": [
    "f = (1/3)*q\n",
    "f.change_ring(GF(5))"
   ]
  },
  {
   "cell_type": "code",
   "execution_count": 298,
   "id": "1b2a9a94",
   "metadata": {},
   "outputs": [
    {
     "name": "stdout",
     "output_type": "stream",
     "text": [
      "weight <= 8\n",
      "upper bound on the dimension = 11\n",
      "prime = 5\n",
      "------------------------------------------------------------\n",
      "f = \n",
      "4 - 408*q - 6840*q^2 + 246048*q^3 + 3246216*q^4 + 20149488*q^5 + 82273824*q^6 + 266018880*q^7 + 719517960*q^8 + 1717003464*q^9 + 3723294384*q^10 + 7445445984*q^11 + O(q^12)\n",
      "f =  P^3 + P*Q + P*R + P\n",
      "------------------------------------------------------------\n",
      "f modulo 5 =\n",
      "4 + 2*q + 3*q^3 + q^4 + 3*q^5 + 4*q^6 + 4*q^9 + 4*q^10 + 4*q^11 + O(q^12)\n",
      "------------------------------------------------------------\n",
      "(0, 2, 0, 0, 0, 1, 0, 0, 0, 1, 0)\n",
      "------------------------------------------------------------\n",
      "P^3 + P*R + 2*R\n"
     ]
    }
   ],
   "source": [
    "k = 8; print('weight <=',k)\n",
    "r = number_of_monomials(k); print('upper bound on the dimension =',r)\n",
    "p = 5; print('prime =',p)\n",
    "\n",
    "print('------------------------------------------------------------')\n",
    "\n",
    "f = E2^3 + E2*E6 + E2*E4 + E2; print('f = ')\n",
    "print(f.add_bigoh(r+1))\n",
    "print('f = ',associated_poly(k,f))\n",
    "\n",
    "print('------------------------------------------------------------')\n",
    "\n",
    "f = fbar = f.change_ring(GF(p)); print('f modulo',p,'=')\n",
    "print(fbar.add_bigoh(r+1))\n",
    "\n",
    "\n",
    "print('------------------------------------------------------------')\n",
    "\n",
    "\n",
    "list_of_coefficients = fbar.padded_list(r)\n",
    "v = vector([c for c in list_of_coefficients])\n",
    "A = basis_matrix(k).change_ring(GF(p))\n",
    "try:\n",
    "    sol = A.solve_right(v)\n",
    "    print(sol)\n",
    "except ValueError:\n",
    "    print(\"Error\")\n",
    "    \n",
    "print('------------------------------------------------------------')\n",
    "\n",
    "solQQ = [u.lift() for u in sol]\n",
    "mons = monomial_exponents(k)\n",
    "poly = sum(solQQ[mons.index(e)]*P^e[0]*Q^e[1]*R^e[2] for e in mons)\n",
    "\n",
    "print(poly)"
   ]
  },
  {
   "cell_type": "code",
   "execution_count": 299,
   "id": "12c2d59a",
   "metadata": {},
   "outputs": [],
   "source": [
    "def associated_poly(k,f):\n",
    "    mons = monomial_exponents(k)\n",
    "    v = linear_comb(k,f)\n",
    "    return sum(v[mons.index(e)]*P^e[0]*Q^e[1]*R^e[2] for e in mons)"
   ]
  },
  {
   "cell_type": "code",
   "execution_count": null,
   "id": "d7a78bd7",
   "metadata": {},
   "outputs": [],
   "source": []
  },
  {
   "cell_type": "code",
   "execution_count": 351,
   "id": "d24481f7",
   "metadata": {
    "scrolled": false
   },
   "outputs": [
    {
     "name": "stdout",
     "output_type": "stream",
     "text": [
      "Let p = 7\n",
      "-----------------------------------------------------------------------\n",
      "Consider the form:\n",
      "f = q^3 + 7*q^4 + 27*q^5 + 77*q^6 + 181*q^7 + 378*q^8 + 707*q^9 + 1254*q^10 + 2052*q^11 + 3290*q^12 + 4928*q^13 + 7371*q^14 + 10381*q^15 + 14756*q^16 + 19818*q^17 + 27158*q^18 + 35139*q^19 + O(q^20)\n",
      "-----------------------------------------------\n",
      "The monomial basis for weights <= 6 is:\n",
      "[1, R, Q, P, P*Q, P^2, P^3]\n",
      "-----------------------------------------------\n",
      "f is equal to the following linear combination of the above monomial basis:\n",
      "-1/82944*P^3 - 1/9216*P^2 - 1/69120*P*Q - 1/5120*P - 1/23040*Q - 1/181440*R + 367/967680\n",
      "-----------------------------------------------\n",
      "The coefficients of the linear combination are:\n",
      "[367/967680, -1/181440, -1/23040, -1/5120, -1/69120, -1/9216, -1/82944]\n",
      "-----------------------------------------------\n",
      "The denominators modulo 7 of the denominators of these coefficients are:\n",
      "[0, 0, 3, 3, 2, 4, 1]\n",
      "-----------------------------------------------\n",
      "The linear combination is 7 - integral: False\n",
      "-----------------------------------------------------------------------\n",
      "The set of monomials partitioned according to their weights modulo p-1:\n",
      "k = 0 --> [1, R, P*Q, P^3]\n",
      "k = 2 --> [P]\n",
      "k = 4 --> [Q, P^2]\n",
      "-----------------------------------------------------------------------\n",
      "k = 0 --> -1/82944*P^3 - 1/69120*P*Q - 1/181440*R + 367/967680\n",
      "k = 2 --> -1/5120*P\n",
      "k = 4 --> -1/9216*P^2 - 1/23040*Q\n",
      "-----------------------------------------------------------------------\n",
      "k = 0 --> 1/2880 + 1/1920*q + 81/640*q^2 + 781/480*q^3 + O(q^4)\n",
      "k = 2 --> -1/5120 + 3/640*q + 9/640*q^2 + 3/160*q^3 + O(q^4)\n",
      "k = 4 --> -7/46080 - 1/192*q - 9/64*q^2 - 31/48*q^3 + O(q^4)\n",
      "-----------------------------------------------------------------------\n"
     ]
    }
   ],
   "source": [
    "a = 3\n",
    "vec = [0,0]\n",
    "r = 20\n",
    "f = U(a,vec,r)\n",
    "\n",
    "p = 7; print('Let p =',p) # fixed prime number\n",
    "k = 2*a # weight of the form\n",
    "\n",
    "print('-----------------------------------------------------------------------')\n",
    "\n",
    "fancy_linear_comb(k,f,p,r)\n",
    "\n",
    "mons = monomial_exponents(k)\n",
    "\n",
    "print('-----------------------------------------------------------------------')\n",
    "    \n",
    "g_exp = graded_exponents_mod_p(mons,p)\n",
    "print('The set of monomials partitioned according to their weights modulo p-1:')\n",
    "\n",
    "for ge in g_exp:\n",
    "    print('k =',2*g_exp.index(ge),'-->',[P^t[0]*Q^t[1]*R^t[2] for t in ge])\n",
    "print('-----------------------------------------------------------------------')\n",
    "\n",
    "poly = associated_poly(k,f)\n",
    "\n",
    "for ge in g_exp:\n",
    "    graded_poly = sum(poly.coefficient({P:m[0], Q:m[1], R:m[2]})*P^(m[0])*Q^(m[1])*R^(m[2]) for m in ge)\n",
    "    print('k =',2*g_exp.index(ge),'-->',graded_poly)\n",
    "print('-----------------------------------------------------------------------')\n",
    "\n",
    "for ge in g_exp:\n",
    "    graded_poly = sum(poly.coefficient({P:m[0], Q:m[1], R:m[2]})*P^(m[0])*Q^(m[1])*R^(m[2]) for m in ge)\n",
    "    print('k =',2*g_exp.index(ge),'-->',graded_poly(E2,E4,E6).add_bigoh(a+1))\n",
    "print('-----------------------------------------------------------------------')"
   ]
  },
  {
   "cell_type": "code",
   "execution_count": 370,
   "id": "0c39c152",
   "metadata": {},
   "outputs": [
    {
     "data": {
      "text/plain": [
       "3"
      ]
     },
     "execution_count": 370,
     "metadata": {},
     "output_type": "execute_result"
    }
   ],
   "source": [
    "640%7"
   ]
  },
  {
   "cell_type": "code",
   "execution_count": 367,
   "id": "0725c5be",
   "metadata": {
    "scrolled": false
   },
   "outputs": [
    {
     "name": "stdout",
     "output_type": "stream",
     "text": [
      "Let p = 7\n",
      "-----------------------------------------------------------------------\n",
      "Consider the form:\n",
      "f = q^4 + 9*q^5 + 44*q^6 + 156*q^7 + 450*q^8 + 1121*q^9 + 2508*q^10 + 5139*q^11 + 9867*q^12 + 17831*q^13 + 30888*q^14 + 51117*q^15 + 82212*q^16 + 127458*q^17 + 193809*q^18 + 285702*q^19 + O(q^20)\n",
      "-----------------------------------------------\n",
      "The monomial basis for weights <= 8 is:\n",
      "[1, R, Q, Q^2, P, P*R, P*Q, P^2, P^2*Q, P^3, P^4]\n",
      "-----------------------------------------------\n",
      "f is equal to the following linear combination of the above monomial basis:\n",
      "1/7962624*P^4 + 5/1990656*P^3 + 1/3317760*P^2*Q + 37/2211840*P^2 + 1/331776*P*Q + 19/116121600*Q^2 + 1/4354560*P*R + 5/172032*P + 37/5529600*Q + 1/870912*R - 27859/464486400\n",
      "-----------------------------------------------\n",
      "The coefficients of the linear combination are:\n",
      "[-27859/464486400, 1/870912, 37/5529600, 19/116121600, 5/172032, 1/4354560, 1/331776, 37/2211840, 1/3317760, 5/1990656, 1/7962624]\n",
      "-----------------------------------------------\n",
      "The denominators modulo 7 of the denominators of these coefficients are:\n",
      "[0, 0, 6, 0, 0, 0, 4, 1, 5, 3, 5]\n",
      "-----------------------------------------------\n",
      "The linear combination is 7 - integral: False\n",
      "-----------------------------------------------------------------------\n",
      "The set of monomials partitioned according to their weights modulo p-1:\n",
      "k = 0 --> [1, R, P*Q, P^3]\n",
      "k = 2 --> [Q^2, P, P*R, P^2*Q, P^4]\n",
      "k = 4 --> [Q, P^2]\n",
      "-----------------------------------------------------------------------\n",
      "f_ 0 = 1/7962624*P^4 + 5/1990656*P^3 + 1/3317760*P^2*Q + 37/2211840*P^2 + 1/331776*P*Q + 19/116121600*Q^2 + 1/4354560*P*R + 5/172032*P + 37/5529600*Q + 1/870912*R - 27859/464486400\n",
      "f_ 1 = 1/331776*Q + 1/4354560*R + 5/172032\n",
      "f_ 2 = 1/3317760*Q + 37/2211840\n",
      "f_ 3 = 5/1990656\n",
      "f_ 4 = 1/7962624\n",
      "-----------------------------------------------------------------------\n",
      "f_ 0 = q^4 + O(q^5)\n",
      "f_ 1 = 2251/69672960 + 7/11520*q + 31/11520*q^2 - 23/2880*q^3 - 89/1280*q^4 + O(q^5)\n",
      "f_ 2 = 113/6635520 + 1/13824*q + 1/1536*q^2 + 7/3456*q^3 + 73/13824*q^4 + O(q^5)\n",
      "f_ 3 = 5/1990656 + O(q^5)\n",
      "f_ 4 = 1/7962624 + O(q^5)\n",
      "-----------------------------------------------------------------------\n"
     ]
    }
   ],
   "source": [
    "a = 4\n",
    "vec = [0]*(a-1)\n",
    "r = 20\n",
    "f = U(a,vec,r)\n",
    "\n",
    "p = 7; print('Let p =',p) # fixed prime number\n",
    "k = 2*a # weight of the form\n",
    "\n",
    "print('-----------------------------------------------------------------------')\n",
    "\n",
    "fancy_linear_comb(k,f,p,r)\n",
    "\n",
    "mons = monomial_exponents(k)\n",
    "\n",
    "print('-----------------------------------------------------------------------')\n",
    "    \n",
    "g_exp = graded_exponents_mod_p(mons,p)\n",
    "print('The set of monomials partitioned according to their weights modulo p-1:')\n",
    "\n",
    "for ge in g_exp:\n",
    "    print('k =',2*g_exp.index(ge),'-->',[P^t[0]*Q^t[1]*R^t[2] for t in ge])\n",
    "print('-----------------------------------------------------------------------')\n",
    "\n",
    "poly = associated_poly(k,f)\n",
    "\n",
    "for i in (0..a):\n",
    "    f_i = poly.coefficient(P^i)\n",
    "    print('f_',i,'=',f_i)\n",
    "print('-----------------------------------------------------------------------')\n",
    "\n",
    "for i in (0..a):\n",
    "    fi = poly.coefficient(P^i)(E2,E4,E6)\n",
    "    print('f_',i,'=',B(fi).add_bigoh(5))\n",
    "print('-----------------------------------------------------------------------')"
   ]
  },
  {
   "cell_type": "code",
   "execution_count": 414,
   "id": "a4831468",
   "metadata": {},
   "outputs": [
    {
     "name": "stdout",
     "output_type": "stream",
     "text": [
      "[   1    1    1    1]\n",
      "[   0  240  -24  -48]\n",
      "[   0 2160  -72  432]\n",
      "[   0 6720  -96 3264] \n",
      "\n",
      "det A= 2^15 * 3^5 * 5\n",
      "(-1050624, 1/480, 1/36, -1/288)\n",
      "q^2 - q^4 - 16*q^5 - 20*q^6 - 64*q^7 - 85*q^8 - 144*q^9 - 210*q^10 - 320*q^11 - 364*q^12 - 560*q^13 - 712*q^14 - 832*q^15 - 1085*q^16 - 1344*q^17 - 1595*q^18 - 1920*q^19 + O(q^20)\n"
     ]
    }
   ],
   "source": [
    "A = basis_matrix(4)\n",
    "print(A,'\\n')\n",
    "\n",
    "print('det A=',factor(det(A)))\n",
    "\n",
    "Abar = Matrix([[1/det(A),1,1,1],[0,240,-24,-48],[0,2160,-72,432],[0,6720,-96,3264]])\n",
    "\n",
    "v = vector([0,0,1,0])\n",
    "\n",
    "sol = Abar^(-1)*v\n",
    "\n",
    "print(Abar^(-1)*v)\n",
    "\n",
    "q_series = sol[0]*1/det(A) + sol[1]*E4 + sol[2]*E2 + sol[3]*E2^2\n",
    "\n",
    "print(q_series.add_bigoh(20))\n",
    "\n",
    "#B = Matrix([[1,1/240,1/24,1/28],[0,1,-1,-1],[0,9,3,9],[0,28,-4,68]])\n",
    "\n",
    "#print(Abar^(-1))\n",
    "\n",
    "#print(B)\n",
    "\n",
    "#print('det B =',factor(det(B)))\n",
    "\n",
    "#print(B^(-1))"
   ]
  },
  {
   "cell_type": "code",
   "execution_count": 472,
   "id": "4d07bce9",
   "metadata": {},
   "outputs": [
    {
     "data": {
      "text/plain": [
       "39813120"
      ]
     },
     "execution_count": 472,
     "metadata": {},
     "output_type": "execute_result"
    }
   ],
   "source": [
    "2^15 * 3^5 * 5"
   ]
  },
  {
   "cell_type": "code",
   "execution_count": 409,
   "id": "c604c5e3",
   "metadata": {},
   "outputs": [
    {
     "data": {
      "text/plain": [
       "1950842831/480"
      ]
     },
     "execution_count": 409,
     "metadata": {},
     "output_type": "execute_result"
    }
   ],
   "source": [
    "4064256-7/1440-5/48+1/144"
   ]
  },
  {
   "cell_type": "code",
   "execution_count": 415,
   "id": "4cfc5c1c",
   "metadata": {},
   "outputs": [
    {
     "name": "stdout",
     "output_type": "stream",
     "text": [
      "for weights <= 2 the determinant is: 2^3 * 3\n",
      "for weights <= 4 the determinant is: 2^15 * 3^5 * 5\n",
      "for weights <= 6 the determinant is: 2^40 * 3^16 * 5^3 * 7\n",
      "for weights <= 8 the determinant is: 2^88 * 3^34 * 5^8 * 7^3\n"
     ]
    }
   ],
   "source": [
    "for k in (1..4):\n",
    "    A = basis_matrix(2*k)\n",
    "    d = det(A)\n",
    "    print('for weights <=',2*k,'the determinant is:',factor(abs(d)))"
   ]
  },
  {
   "cell_type": "code",
   "execution_count": 419,
   "id": "e7ef9026",
   "metadata": {},
   "outputs": [],
   "source": [
    "def ff(x,*y):\n",
    "    return print(x,y[0],y[1],y[2])"
   ]
  },
  {
   "cell_type": "code",
   "execution_count": 438,
   "id": "81f512f5",
   "metadata": {},
   "outputs": [],
   "source": [
    "def qseries_matrix(r,li):\n",
    "    return Matrix([g.padded_list(r) for g in li]).transpose()"
   ]
  },
  {
   "cell_type": "code",
   "execution_count": 496,
   "id": "291c98e5",
   "metadata": {},
   "outputs": [
    {
     "name": "stdout",
     "output_type": "stream",
     "text": [
      "weights up to: 4 , the space has dimension 4\n",
      "------------------------------------------------------\n",
      "linear combination of modified monomial basis required to generate q ^ 0 + ... is:\n",
      "\n",
      "(39813120, 0, 0, 0)\n",
      "\n",
      "-----------------------------------------------------\n",
      "resulting q-series:\n",
      "\n",
      "1 + O(q^5)\n"
     ]
    }
   ],
   "source": [
    "k = 4\n",
    "i = 1 # canonical basis vector index\n",
    "r = number_of_monomials(k)\n",
    "\n",
    "print('weights up to:',k,', the space has dimension',r)\n",
    "print('------------------------------------------------------')\n",
    "\n",
    "B.<q> = PowerSeriesRing(QQ,default_prec=300)\n",
    "d = 1/det(basis_matrix(k))\n",
    "\n",
    "mons = monomial_exponents(k) # exponents of monomial basis\n",
    "mons.pop(0) # remove the constant monomial\n",
    "monomial_basis = [B(d)]+[qmform_from_exp(m) for m in mons]\n",
    "\n",
    "A = qseries_matrix(len(monomial_basis),monomial_basis)\n",
    "\n",
    "zeros = [0]*r\n",
    "zeros[i-1] = 1\n",
    "v = vector(zeros) # ith canonical basis vector\n",
    "\n",
    "sol = A^(-1)*v\n",
    "\n",
    "print('linear combination of modified monomial basis required to generate q ^',i-1,'+ ... is:\\n')\n",
    "print(sol)\n",
    "print('\\n-----------------------------------------------------')\n",
    "\n",
    "diag_q_series = sum(sol[i]*monomial_basis[i] for i in (0..r-1))\n",
    "\n",
    "print('resulting q-series:\\n')\n",
    "print(diag_q_series.add_bigoh(r+1))"
   ]
  },
  {
   "cell_type": "code",
   "execution_count": 511,
   "id": "805d2ef1",
   "metadata": {
    "scrolled": false
   },
   "outputs": [
    {
     "name": "stdout",
     "output_type": "stream",
     "text": [
      "------------------------------------------------------------------\n",
      "Diagonal basis for QM forms of weights <= 2 of dimension 2 :\n",
      "\n",
      "1 + O(q^4)\n",
      "q + 3*q^2 + 4*q^3 + O(q^4)\n",
      "------------------------------------------------------------------\n",
      "Diagonal basis for QM forms of weights <= 4 of dimension 4 :\n",
      "\n",
      "1 + O(q^6)\n",
      "q - 2*q^4 + 18*q^5 + O(q^6)\n",
      "q^2 - q^4 - 16*q^5 + O(q^6)\n",
      "q^3 + 3*q^4 + 9*q^5 + O(q^6)\n",
      "------------------------------------------------------------------\n",
      "Diagonal basis for QM forms of weights <= 6 of dimension 7 :\n",
      "\n",
      "1 + O(q^9)\n",
      "q - 41*q^7 - 63*q^8 + O(q^9)\n",
      "q^2 + 16*q^7 + 10*q^8 + O(q^9)\n",
      "q^3 + 45/2*q^7 + 135/2*q^8 + O(q^9)\n",
      "q^4 - 20*q^7 - 45*q^8 + O(q^9)\n",
      "q^5 + 5/2*q^7 - 5/2*q^8 + O(q^9)\n",
      "q^6 + 3*q^7 + 9*q^8 + O(q^9)\n",
      "------------------------------------------------------------------\n",
      "Diagonal basis for QM forms of weights <= 8 of dimension 11 :\n",
      "\n",
      "1 + O(q^13)\n",
      "q - 27/20*q^11 - 2114/5*q^12 + O(q^13)\n",
      "q^2 + 46/5*q^11 + 1078/5*q^12 + O(q^13)\n",
      "q^3 + 9/2*q^11 + 271*q^12 + O(q^13)\n",
      "q^4 - 18*q^11 - 322*q^12 + O(q^13)\n",
      "q^5 - 37/4*q^11 + 21*q^12 + O(q^13)\n",
      "q^6 + 99/5*q^11 + 532/5*q^12 + O(q^13)\n",
      "q^7 + 63/10*q^11 - 28/5*q^12 + O(q^13)\n",
      "q^8 - 74/5*q^11 - 182/5*q^12 + O(q^13)\n",
      "q^9 + 9/4*q^11 + O(q^13)\n",
      "q^10 + 3*q^11 + 9*q^12 + O(q^13)\n",
      "------------------------------------------------------------------\n",
      "Diagonal basis for QM forms of weights <= 10 of dimension 16 :\n",
      "\n",
      "1 + O(q^18)\n",
      "q - 4239/5*q^16 - 247374/85*q^17 + O(q^18)\n",
      "q^2 + 3624/11*q^16 + 273840/187*q^17 + O(q^18)\n",
      "q^3 + 3723/5*q^16 + 175293/85*q^17 + O(q^18)\n",
      "q^4 - 3486/5*q^16 - 206976/85*q^17 + O(q^18)\n",
      "q^5 + 147*q^16 + 476*q^17 + O(q^18)\n",
      "q^6 + 252/5*q^16 + 46872/85*q^17 + O(q^18)\n",
      "q^7 - 602/5*q^16 - 25452/85*q^17 + O(q^18)\n",
      "q^8 + 1051/5*q^16 + 14016/85*q^17 + O(q^18)\n",
      "q^9 - 99*q^16 - 3024/17*q^17 + O(q^18)\n",
      "q^10 - 88*q^16 - 1128/17*q^17 + O(q^18)\n",
      "q^11 + 91*q^16 + 2835/17*q^17 + O(q^18)\n",
      "q^12 + 12/5*q^16 - 1008/85*q^17 + O(q^18)\n",
      "q^13 - 1488/55*q^16 - 48408/935*q^17 + O(q^18)\n",
      "q^14 + 28/5*q^16 + 448/85*q^17 + O(q^18)\n",
      "q^15 + 3*q^16 + 9*q^17 + O(q^18)\n",
      "------------------------------------------------------------------\n",
      "Diagonal basis for QM forms of weights <= 12 of dimension 23 :\n",
      "\n",
      "1 + O(q^25)\n",
      "q - 269666292/37967*q^23 - 1689528451/113901*q^24 + O(q^25)\n",
      "q^2 + 233640801/37967*q^23 + 1037199968/113901*q^24 + O(q^25)\n",
      "q^3 + 28461843/37967*q^23 + 821718709/75934*q^24 + O(q^25)\n",
      "q^4 - 222864000/37967*q^23 - 608962904/37967*q^24 + O(q^25)\n",
      "q^5 + 82317470/37967*q^23 + 260326430/113901*q^24 + O(q^25)\n",
      "q^6 + 126088389/37967*q^23 + 245253736/37967*q^24 + O(q^25)\n",
      "q^7 - 32345481/37967*q^23 - 136490669/113901*q^24 + O(q^25)\n",
      "q^8 - 115329960/37967*q^23 - 57349442/37967*q^24 + O(q^25)\n",
      "q^9 + 32095440/37967*q^23 - 51550758/37967*q^24 + O(q^25)\n",
      "q^10 + 65575515/37967*q^23 + 15566885/113901*q^24 + O(q^25)\n",
      "q^11 - 25784183/37967*q^23 + 391126123/227802*q^24 + O(q^25)\n",
      "q^12 - 14067072/37967*q^23 + 1630751/37967*q^24 + O(q^25)\n",
      "q^13 + 8226174/37967*q^23 - 29421366/37967*q^24 + O(q^25)\n",
      "q^14 - 6006105/37967*q^23 - 6595106/113901*q^24 + O(q^25)\n",
      "q^15 + 2536065/37967*q^23 + 3126765/75934*q^24 + O(q^25)\n",
      "q^16 + 4381656/37967*q^23 + 6154750/113901*q^24 + O(q^25)\n",
      "q^17 - 3024842/37967*q^23 + 26259133/227802*q^24 + O(q^25)\n",
      "q^18 - 365175/37967*q^23 - 735726/37967*q^24 + O(q^25)\n",
      "q^19 + 778200/37967*q^23 - 5635315/113901*q^24 + O(q^25)\n",
      "q^20 - 391400/37967*q^23 - 521000/113901*q^24 + O(q^25)\n",
      "q^21 + 51912/37967*q^23 + 260827/37967*q^24 + O(q^25)\n",
      "q^22 + 96597/37967*q^23 + 574447/113901*q^24 + O(q^25)\n",
      "------------------------------------------------------------------\n",
      "Diagonal basis for QM forms of weights <= 14 of dimension 31 :\n",
      "\n",
      "1 + O(q^33)\n",
      "q - 3194846268723435/35119473788*q^31 - 2426769012790347/35119473788*q^32 + O(q^33)\n",
      "q^2 + 14219319889776731/175597368940*q^31 + 6605751726533943/175597368940*q^32 + O(q^33)\n",
      "q^3 + 2569436327364021/175597368940*q^31 + 12935042139123453/175597368940*q^32 + O(q^33)\n",
      "q^4 - 3842465013810921/43899342235*q^31 - 4203631679580573/43899342235*q^32 + O(q^33)\n",
      "q^5 + 7031299050585599/210716842728*q^31 + 499308070967829/70238947576*q^32 + O(q^33)\n",
      "q^6 + 8702004748210701/175597368940*q^31 + 7466031919855293/175597368940*q^32 + O(q^33)\n",
      "q^7 - 838522035513801/50170676840*q^31 - 167679641070393/50170676840*q^32 + O(q^33)\n",
      "q^8 - 5185150088097976/131698026705*q^31 - 365092740688426/43899342235*q^32 + O(q^33)\n",
      "q^9 + 2959749950513319/351194737880*q^31 - 5805748093744953/351194737880*q^32 + O(q^33)\n",
      "q^10 + 778937104139997/35119473788*q^31 - 37393338580119/35119473788*q^32 + O(q^33)\n",
      "q^11 - 639757262841807/351194737880*q^31 + 6382199731896769/351194737880*q^32 + O(q^33)\n",
      "q^12 - 513899488492263/87798684470*q^31 + 228472260535941/87798684470*q^32 + O(q^33)\n",
      "q^13 - 578845531359901/351194737880*q^31 - 2895987965068893/351194737880*q^32 + O(q^33)\n",
      "q^14 - 174689972625913/75256015260*q^31 - 34713033821223/25085338420*q^32 + O(q^33)\n",
      "q^15 + 15561848777127/8779868447*q^31 - 2290462537989/8779868447*q^32 + O(q^33)\n",
      "q^16 + 136123414750608/43899342235*q^31 - 21636998758491/43899342235*q^32 + O(q^33)\n",
      "q^17 - 1067651607050929/1053584213640*q^31 + 956507170345061/351194737880*q^32 + O(q^33)\n",
      "q^18 - 4156446359079/5017067684*q^31 + 3276670547565/5017067684*q^32 + O(q^33)\n",
      "q^19 + 65548737860099/351194737880*q^31 - 396239213006013/351194737880*q^32 + O(q^33)\n",
      "q^20 - 23661748894321/52679210682*q^31 - 1152563255631/17559736894*q^32 + O(q^33)\n",
      "q^21 + 1689291432369/6271334605*q^31 - 2170355218923/6271334605*q^32 + O(q^33)\n",
      "q^22 + 10483990956417/35119473788*q^31 - 4059398978679/35119473788*q^32 + O(q^33)\n",
      "q^23 - 28585736890117/131698026705*q^31 + 17134729489413/43899342235*q^32 + O(q^33)\n",
      "q^24 - 374475731136/43899342235*q^31 + 2964765330192/43899342235*q^32 + O(q^33)\n",
      "q^25 + 4301400909075/70238947576*q^31 - 5188965989325/70238947576*q^32 + O(q^33)\n",
      "q^26 - 465195348293/18814003815*q^31 - 145600242053/6271334605*q^32 + O(q^33)\n",
      "q^27 - 3540853152243/351194737880*q^31 - 5572717359939/351194737880*q^32 + O(q^33)\n",
      "q^28 + 24194250283/12542669210*q^31 + 1074730839/12542669210*q^32 + O(q^33)\n",
      "q^29 + 150244381597/37628007630*q^31 + 66131905967/12542669210*q^32 + O(q^33)\n",
      "q^30 + 1127778786/1254266921*q^31 + 4891174233/1254266921*q^32 + O(q^33)\n"
     ]
    }
   ],
   "source": [
    "B.<q> = PowerSeriesRing(QQ,default_prec=300)\n",
    "\n",
    "for l in (1..7):\n",
    "    k = 2*l\n",
    "    r = number_of_monomials(k)\n",
    "\n",
    "    print('------------------------------------------------------------------')\n",
    "    print('Diagonal basis for QM forms of weights <=',k,'of dimension',r,':\\n')\n",
    "    d = 1/det(basis_matrix(k))\n",
    "\n",
    "    mons = monomial_exponents(k) # exponents of monomial basis\n",
    "    mons.pop(0) # remove the constant monomial\n",
    "    monomial_basis = [B(d)]+[qmform_from_exp(m) for m in mons]\n",
    "\n",
    "    A = qseries_matrix(len(monomial_basis),monomial_basis)\n",
    "\n",
    "    for i in (1..r):\n",
    "        zeros = [0]*r\n",
    "        zeros[i-1] = 1\n",
    "        v = vector(zeros) # ith canonical basis vector\n",
    "\n",
    "        sol = A^(-1)*v\n",
    "\n",
    "        diag_q_series = sum(sol[i]*monomial_basis[i] for i in (0..r-1))\n",
    "\n",
    "        print(diag_q_series.add_bigoh(r+2))"
   ]
  },
  {
   "cell_type": "code",
   "execution_count": null,
   "id": "847c7a05",
   "metadata": {},
   "outputs": [],
   "source": []
  }
 ],
 "metadata": {
  "kernelspec": {
   "display_name": "SageMath 9.5",
   "language": "sage",
   "name": "sagemath"
  },
  "language_info": {
   "codemirror_mode": {
    "name": "ipython",
    "version": 3
   },
   "file_extension": ".py",
   "mimetype": "text/x-python",
   "name": "python",
   "nbconvert_exporter": "python",
   "pygments_lexer": "ipython3",
   "version": "3.10.12"
  }
 },
 "nbformat": 4,
 "nbformat_minor": 5
}
